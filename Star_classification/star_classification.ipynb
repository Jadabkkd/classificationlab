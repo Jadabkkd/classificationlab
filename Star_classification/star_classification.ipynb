{
 "cells": [
  {
   "cell_type": "code",
   "execution_count": 1,
   "id": "2007a04f",
   "metadata": {},
   "outputs": [],
   "source": [
    "import sklearn\n",
    "import pandas as pd\n",
    "import numpy as np\n",
    "import seaborn as sns\n",
    "from sklearn.metrics import accuracy_score, roc_auc_score\n",
    "from sklearn.preprocessing import OneHotEncoder\n",
    "from sklearn.model_selection import (\n",
    "    train_test_split,\n",
    "    KFold\n",
    ")\n",
    "import tensorflow.keras as keras\n",
    "import tensorflow as tf"
   ]
  },
  {
   "cell_type": "code",
   "execution_count": 2,
   "id": "76bc3713",
   "metadata": {},
   "outputs": [],
   "source": [
    "df = pd.read_csv('Datasets/star_classification.csv')"
   ]
  },
  {
   "cell_type": "code",
   "execution_count": 3,
   "id": "860ea00c",
   "metadata": {},
   "outputs": [],
   "source": [
    "df = df.sample(frac=1)"
   ]
  },
  {
   "cell_type": "code",
   "execution_count": 4,
   "id": "3bc0c2f7",
   "metadata": {},
   "outputs": [
    {
     "data": {
      "text/plain": [
       "0          STAR\n",
       "1        GALAXY\n",
       "2           QSO\n",
       "3           QSO\n",
       "4           QSO\n",
       "          ...  \n",
       "99995    GALAXY\n",
       "99996       QSO\n",
       "99997    GALAXY\n",
       "99998    GALAXY\n",
       "99999    GALAXY\n",
       "Name: class, Length: 100000, dtype: object"
      ]
     },
     "execution_count": 4,
     "metadata": {},
     "output_type": "execute_result"
    }
   ],
   "source": [
    "\n",
    "df = df[[\n",
    "    'alpha', 'delta', 'u', 'g', 'r', 'i', 'z',\n",
    "        'class', 'redshift',\n",
    "]].copy()\n",
    "df = df.reset_index(drop=True)\n",
    "df['class']"
   ]
  },
  {
   "cell_type": "code",
   "execution_count": 5,
   "id": "56593f7e",
   "metadata": {},
   "outputs": [],
   "source": [
    "class_label = df.pop('class')\n",
    "features = df"
   ]
  },
  {
   "cell_type": "code",
   "execution_count": 6,
   "id": "13bfd29b",
   "metadata": {},
   "outputs": [],
   "source": [
    "test_labels = keras.layers.CategoryEncoding(num_tokens=3,output_mode = 'one_hot')\n",
    "test_labels = test_labels(pd.factorize(class_label,sort=True)[0])\n",
    "class_label = test_labels"
   ]
  },
  {
   "cell_type": "code",
   "execution_count": 7,
   "id": "b65d7cc6",
   "metadata": {},
   "outputs": [
    {
     "data": {
      "text/plain": [
       "<tf.Tensor: shape=(100000, 8), dtype=float64, numpy=\n",
       "array([[ 4.07228012e+00,  1.15155149e+01,  2.57469300e+01, ...,\n",
       "         2.10183300e+01,  1.98176400e+01, -1.03112700e-04],\n",
       "       [ 1.27490616e+02,  5.30139917e+01,  2.25283800e+01, ...,\n",
       "         2.08636900e+01,  1.98201800e+01,  7.63565700e-01],\n",
       "       [ 3.39088689e+02,  2.92200348e+00,  2.19714800e+01, ...,\n",
       "         2.11552600e+01,  2.16536000e+01,  1.55839000e+00],\n",
       "       ...,\n",
       "       [ 2.21532369e+02,  4.14637909e+01,  2.18758400e+01, ...,\n",
       "         1.95841200e+01,  1.90825400e+01,  6.62701400e-01],\n",
       "       [ 2.55813880e+02,  3.58851893e+01,  2.39119000e+01, ...,\n",
       "         1.99066200e+01,  1.92859300e+01,  7.30424500e-01],\n",
       "       [ 2.06650827e+01, -2.18488574e+00,  2.37251400e+01, ...,\n",
       "         2.12517900e+01,  2.08721700e+01,  8.60751500e-01]])>"
      ]
     },
     "execution_count": 7,
     "metadata": {},
     "output_type": "execute_result"
    }
   ],
   "source": [
    "# convert to tensor \n",
    "features = tf.convert_to_tensor(features)\n",
    "features"
   ]
  },
  {
   "cell_type": "code",
   "execution_count": 8,
   "id": "d2583016",
   "metadata": {},
   "outputs": [],
   "source": [
    "#and feature normalizer\n",
    "features_norm = keras.layers.Normalization(axis = -1)\n",
    "features_norm.adapt(features)"
   ]
  },
  {
   "cell_type": "code",
   "execution_count": 9,
   "id": "39034189",
   "metadata": {},
   "outputs": [],
   "source": [
    "def model_setup():\n",
    "    model = keras.models.Sequential([\n",
    "        features_norm,\n",
    "        keras.layers.Dense(128,keras.activations.relu),\n",
    "        keras.layers.Dense(256,keras.activations.relu),\n",
    "        keras.layers.Dense(128, keras.activations.sigmoid),\n",
    "        keras.layers.Dense(3)\n",
    "    ])\n",
    "    model.compile(\n",
    "        optimizer=keras.optimizers.Adam(learning_rate=0.001),\n",
    "        loss=keras.losses.CategoricalCrossentropy(from_logits=True),\n",
    "        metrics=[keras.metrics.CategoricalAccuracy()]\n",
    "    )\n",
    "    \n",
    "    return model"
   ]
  },
  {
   "cell_type": "code",
   "execution_count": 10,
   "id": "fff9f38e",
   "metadata": {},
   "outputs": [
    {
     "data": {
      "image/png": "[encoded data removed]",
      "text/plain": [
       "<IPython.core.display.Image object>"
      ]
     },
     "execution_count": 10,
     "metadata": {},
     "output_type": "execute_result"
    }
   ],
   "source": [
    "train_data = tf.data.Dataset.from_tensor_slices((features,class_label)).batch(50000)\n",
    "model = model_setup()\n",
    "model.build(input_shape = (None,9))\n",
    "keras.utils.plot_model(model)"
   ]
  },
  {
   "cell_type": "code",
   "execution_count": 11,
   "id": "10bc9186",
   "metadata": {},
   "outputs": [
    {
     "name": "stdout",
     "output_type": "stream",
     "text": [
      "Model: \"sequential\"\n",
      "_________________________________________________________________\n",
      " Layer (type)                Output Shape              Param #   \n",
      "=================================================================\n",
      " normalization (Normalizatio  (None, 8)                17        \n",
      " n)                                                              \n",
      "                                                                 \n",
      " dense (Dense)               (None, 128)               1152      \n",
      "                                                                 \n",
      " dense_1 (Dense)             (None, 256)               33024     \n",
      "                                                                 \n",
      " dense_2 (Dense)             (None, 128)               32896     \n",
      "                                                                 \n",
      " dense_3 (Dense)             (None, 3)                 387       \n",
      "                                                                 \n",
      "=================================================================\n",
      "Total params: 67,476\n",
      "Trainable params: 67,459\n",
      "Non-trainable params: 17\n",
      "_________________________________________________________________\n"
     ]
    }
   ],
   "source": [
    "model.summary()"
   ]
  },
  {
   "cell_type": "code",
   "execution_count": null,
   "id": "d1a3b8d0",
   "metadata": {},
   "outputs": [
    {
     "name": "stdout",
     "output_type": "stream",
     "text": [
      "Epoch 1/150\n",
      "2/2 [==============================] - 1s 273ms/step - loss: 1.4466 - categorical_accuracy: 0.2159\n",
      "Epoch 2/150\n",
      "2/2 [==============================] - 0s 207ms/step - loss: 1.2469 - categorical_accuracy: 0.2170\n",
      "Epoch 3/150\n",
      "2/2 [==============================] - 0s 214ms/step - loss: 1.0874 - categorical_accuracy: 0.2338\n",
      "Epoch 4/150\n",
      "2/2 [==============================] - 0s 204ms/step - loss: 0.9747 - categorical_accuracy: 0.4547\n",
      "Epoch 5/150\n",
      "2/2 [==============================] - 0s 208ms/step - loss: 0.9099 - categorical_accuracy: 0.5788\n",
      "Epoch 6/150\n",
      "2/2 [==============================] - 0s 209ms/step - loss: 0.8772 - categorical_accuracy: 0.5987\n",
      "Epoch 7/150\n",
      "2/2 [==============================] - 0s 218ms/step - loss: 0.8526 - categorical_accuracy: 0.6190\n",
      "Epoch 8/150\n",
      "2/2 [==============================] - 0s 214ms/step - loss: 0.8232 - categorical_accuracy: 0.6605\n",
      "Epoch 9/150\n",
      "2/2 [==============================] - 0s 219ms/step - loss: 0.7897 - categorical_accuracy: 0.6957\n",
      "Epoch 10/150\n",
      "2/2 [==============================] - 0s 216ms/step - loss: 0.7564 - categorical_accuracy: 0.7165\n",
      "Epoch 11/150\n",
      "2/2 [==============================] - 0s 219ms/step - loss: 0.7242 - categorical_accuracy: 0.7223\n",
      "Epoch 12/150\n",
      "2/2 [==============================] - 0s 234ms/step - loss: 0.6930 - categorical_accuracy: 0.7251\n",
      "Epoch 13/150\n",
      "2/2 [==============================] - 0s 230ms/step - loss: 0.6646 - categorical_accuracy: 0.7278\n",
      "Epoch 14/150\n",
      "2/2 [==============================] - 0s 213ms/step - loss: 0.6417 - categorical_accuracy: 0.7290\n",
      "Epoch 15/150\n",
      "2/2 [==============================] - 0s 216ms/step - loss: 0.6246 - categorical_accuracy: 0.7294\n",
      "Epoch 16/150\n",
      "2/2 [==============================] - 0s 215ms/step - loss: 0.6109 - categorical_accuracy: 0.7305\n",
      "Epoch 17/150\n",
      "2/2 [==============================] - 0s 217ms/step - loss: 0.5969 - categorical_accuracy: 0.7325\n",
      "Epoch 18/150\n",
      "2/2 [==============================] - 0s 216ms/step - loss: 0.5809 - categorical_accuracy: 0.7354\n",
      "Epoch 19/150\n",
      "2/2 [==============================] - 0s 216ms/step - loss: 0.5637 - categorical_accuracy: 0.7382\n",
      "Epoch 20/150\n",
      "2/2 [==============================] - 0s 216ms/step - loss: 0.5468 - categorical_accuracy: 0.7409\n",
      "Epoch 21/150\n",
      "2/2 [==============================] - 0s 209ms/step - loss: 0.5311 - categorical_accuracy: 0.7425\n",
      "Epoch 22/150\n",
      "2/2 [==============================] - 0s 215ms/step - loss: 0.5157 - categorical_accuracy: 0.7439\n",
      "Epoch 23/150\n",
      "2/2 [==============================] - 0s 212ms/step - loss: 0.4998 - categorical_accuracy: 0.7448\n",
      "Epoch 24/150\n",
      "2/2 [==============================] - 0s 212ms/step - loss: 0.4831 - categorical_accuracy: 0.7502\n",
      "Epoch 25/150\n",
      "2/2 [==============================] - 0s 218ms/step - loss: 0.4659 - categorical_accuracy: 0.7825\n",
      "Epoch 26/150\n",
      "2/2 [==============================] - 0s 224ms/step - loss: 0.4491 - categorical_accuracy: 0.8275\n",
      "Epoch 27/150\n",
      "2/2 [==============================] - 0s 221ms/step - loss: 0.4331 - categorical_accuracy: 0.8568\n",
      "Epoch 28/150\n",
      "2/2 [==============================] - 0s 251ms/step - loss: 0.4173 - categorical_accuracy: 0.8697\n",
      "Epoch 29/150\n",
      "2/2 [==============================] - 0s 225ms/step - loss: 0.4016 - categorical_accuracy: 0.8759\n",
      "Epoch 30/150\n",
      "2/2 [==============================] - 0s 220ms/step - loss: 0.3864 - categorical_accuracy: 0.8789\n",
      "Epoch 31/150\n",
      "2/2 [==============================] - 0s 215ms/step - loss: 0.3724 - categorical_accuracy: 0.8824\n",
      "Epoch 32/150\n",
      "2/2 [==============================] - 0s 215ms/step - loss: 0.3594 - categorical_accuracy: 0.8876\n",
      "Epoch 33/150\n",
      "2/2 [==============================] - 0s 214ms/step - loss: 0.3475 - categorical_accuracy: 0.8925\n",
      "Epoch 34/150\n",
      "2/2 [==============================] - 0s 217ms/step - loss: 0.3364 - categorical_accuracy: 0.8953\n",
      "Epoch 35/150\n",
      "2/2 [==============================] - 0s 216ms/step - loss: 0.3260 - categorical_accuracy: 0.8963\n",
      "Epoch 36/150\n",
      "2/2 [==============================] - 0s 219ms/step - loss: 0.3166 - categorical_accuracy: 0.8980\n",
      "Epoch 37/150\n",
      "2/2 [==============================] - 0s 217ms/step - loss: 0.3077 - categorical_accuracy: 0.9006\n",
      "Epoch 38/150\n",
      "2/2 [==============================] - 0s 220ms/step - loss: 0.2995 - categorical_accuracy: 0.9030\n",
      "Epoch 39/150\n",
      "2/2 [==============================] - 0s 219ms/step - loss: 0.2916 - categorical_accuracy: 0.9046\n",
      "Epoch 40/150\n",
      "2/2 [==============================] - 0s 213ms/step - loss: 0.2843 - categorical_accuracy: 0.9064\n",
      "Epoch 41/150\n",
      "2/2 [==============================] - 0s 214ms/step - loss: 0.2774 - categorical_accuracy: 0.9092\n",
      "Epoch 42/150\n",
      "2/2 [==============================] - 0s 214ms/step - loss: 0.2710 - categorical_accuracy: 0.9114\n",
      "Epoch 43/150\n",
      "2/2 [==============================] - 0s 218ms/step - loss: 0.2649 - categorical_accuracy: 0.9127\n",
      "Epoch 44/150\n",
      "2/2 [==============================] - 0s 210ms/step - loss: 0.2591 - categorical_accuracy: 0.9146\n",
      "Epoch 45/150\n",
      "2/2 [==============================] - 0s 209ms/step - loss: 0.2537 - categorical_accuracy: 0.9168\n",
      "Epoch 46/150\n",
      "2/2 [==============================] - 0s 276ms/step - loss: 0.2485 - categorical_accuracy: 0.9181\n",
      "Epoch 47/150\n",
      "2/2 [==============================] - 0s 278ms/step - loss: 0.2435 - categorical_accuracy: 0.9207\n",
      "Epoch 48/150\n",
      "2/2 [==============================] - 0s 268ms/step - loss: 0.2387 - categorical_accuracy: 0.9233\n",
      "Epoch 49/150\n",
      "2/2 [==============================] - 0s 214ms/step - loss: 0.2342 - categorical_accuracy: 0.9254\n",
      "Epoch 50/150\n",
      "2/2 [==============================] - 0s 216ms/step - loss: 0.2299 - categorical_accuracy: 0.9275\n",
      "Epoch 51/150\n",
      "2/2 [==============================] - 0s 213ms/step - loss: 0.2257 - categorical_accuracy: 0.9290\n",
      "Epoch 52/150\n",
      "2/2 [==============================] - 0s 211ms/step - loss: 0.2217 - categorical_accuracy: 0.9305\n",
      "Epoch 53/150\n",
      "2/2 [==============================] - 0s 218ms/step - loss: 0.2179 - categorical_accuracy: 0.9322\n",
      "Epoch 54/150\n",
      "2/2 [==============================] - 0s 214ms/step - loss: 0.2143 - categorical_accuracy: 0.9336\n",
      "Epoch 55/150\n",
      "2/2 [==============================] - 0s 220ms/step - loss: 0.2108 - categorical_accuracy: 0.9356\n",
      "Epoch 56/150\n",
      "2/2 [==============================] - 0s 213ms/step - loss: 0.2075 - categorical_accuracy: 0.9369\n",
      "Epoch 57/150\n",
      "2/2 [==============================] - 0s 216ms/step - loss: 0.2043 - categorical_accuracy: 0.9390\n",
      "Epoch 58/150\n",
      "2/2 [==============================] - 0s 225ms/step - loss: 0.2013 - categorical_accuracy: 0.9403\n",
      "Epoch 59/150\n",
      "2/2 [==============================] - 0s 215ms/step - loss: 0.1983 - categorical_accuracy: 0.9419\n",
      "Epoch 60/150\n",
      "2/2 [==============================] - 0s 216ms/step - loss: 0.1955 - categorical_accuracy: 0.9431\n",
      "Epoch 61/150\n",
      "2/2 [==============================] - 0s 218ms/step - loss: 0.1928 - categorical_accuracy: 0.9445\n",
      "Epoch 62/150\n",
      "2/2 [==============================] - 0s 216ms/step - loss: 0.1902 - categorical_accuracy: 0.9457\n",
      "Epoch 63/150\n",
      "2/2 [==============================] - 0s 214ms/step - loss: 0.1878 - categorical_accuracy: 0.9466\n",
      "Epoch 64/150\n",
      "2/2 [==============================] - 0s 213ms/step - loss: 0.1854 - categorical_accuracy: 0.9475\n",
      "Epoch 65/150\n",
      "2/2 [==============================] - 0s 213ms/step - loss: 0.1831 - categorical_accuracy: 0.9485\n",
      "Epoch 66/150\n",
      "2/2 [==============================] - 0s 216ms/step - loss: 0.1809 - categorical_accuracy: 0.9494\n",
      "Epoch 67/150\n",
      "2/2 [==============================] - 0s 216ms/step - loss: 0.1788 - categorical_accuracy: 0.9502\n",
      "Epoch 68/150\n",
      "2/2 [==============================] - 0s 217ms/step - loss: 0.1768 - categorical_accuracy: 0.9512\n",
      "Epoch 69/150\n",
      "2/2 [==============================] - 0s 221ms/step - loss: 0.1749 - categorical_accuracy: 0.9521\n",
      "Epoch 70/150\n",
      "2/2 [==============================] - 0s 210ms/step - loss: 0.1730 - categorical_accuracy: 0.9528\n",
      "Epoch 71/150\n",
      "2/2 [==============================] - 0s 227ms/step - loss: 0.1711 - categorical_accuracy: 0.9533\n",
      "Epoch 72/150\n",
      "2/2 [==============================] - 0s 218ms/step - loss: 0.1694 - categorical_accuracy: 0.9538\n",
      "Epoch 73/150\n",
      "2/2 [==============================] - 0s 214ms/step - loss: 0.1677 - categorical_accuracy: 0.9543\n",
      "Epoch 74/150\n",
      "1/2 [==============>...............] - ETA: 0s - loss: 0.1662 - categorical_accuracy: 0.9548"
     ]
    }
   ],
   "source": [
    "tens_board = keras.callbacks.TensorBoard(\n",
    "    log_dir=\"logs\",\n",
    "    histogram_freq=1,\n",
    "    write_graph=True,\n",
    "    write_images=True,\n",
    "    write_steps_per_second=True,\n",
    "    update_freq=\"epoch\",\n",
    "    profile_batch=0,\n",
    "    embeddings_freq=0,\n",
    "    embeddings_metadata=None,\n",
    ")\n",
    "md = model.fit(train_data,epochs=150,callbacks = tens_board)\n",
    "md.history"
   ]
  },
  {
   "cell_type": "code",
   "execution_count": null,
   "id": "f8070d45",
   "metadata": {},
   "outputs": [],
   "source": [
    "# import seaborn as sns\n",
    "# import matplotlib.pyplot as plt\n",
    "# ax = sns.lineplot(md.history['categorical_accuracy'],color = 'red',label ='categorical_accuracy' )\n",
    "# sns.lineplot(md.history['loss'],label = 'loss')\n",
    "\n",
    "# plt.show()"
   ]
  },
  {
   "cell_type": "code",
   "execution_count": null,
   "id": "abaa31b9",
   "metadata": {},
   "outputs": [],
   "source": [
    "%reload_ext tensorboard\n",
    "%tensorboard --logdir logs"
   ]
  },
  {
   "cell_type": "code",
   "execution_count": null,
   "id": "2fe6a778",
   "metadata": {},
   "outputs": [],
   "source": []
  }
 ],
 "metadata": {
  "kernelspec": {
   "display_name": "Python 3 (ipykernel)",
   "language": "python",
   "name": "python3"
  },
  "language_info": {
   "codemirror_mode": {
    "name": "ipython",
    "version": 3
   },
   "file_extension": ".py",
   "mimetype": "text/x-python",
   "name": "python",
   "nbconvert_exporter": "python",
   "pygments_lexer": "ipython3",
   "version": "3.9.5"
  }
 },
 "nbformat": 4,
 "nbformat_minor": 5
}
