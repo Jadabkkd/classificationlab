{
 "cells": [
  {
   "cell_type": "code",
   "execution_count": null,
   "id": "dfb4af4e",
   "metadata": {},
   "outputs": [],
   "source": [
    "import pandas as pd\n",
    "import numpy as np\n",
    "import matplotlib.pyplot as plt\n",
    "import seaborn as sns"
   ]
  },
  {
   "cell_type": "code",
   "execution_count": null,
   "id": "f6794836",
   "metadata": {},
   "outputs": [],
   "source": [
    "pd.set_option('display.max_columns', 100)"
   ]
  },
  {
   "cell_type": "code",
   "execution_count": null,
   "id": "25adbe02",
   "metadata": {},
   "outputs": [],
   "source": [
    "df = pd.read_csv('Turbine_Data.csv')\n",
    "df.flags.allows_duplicate_labels = False\n",
    "df"
   ]
  },
  {
   "cell_type": "code",
   "execution_count": null,
   "id": "86d32e33",
   "metadata": {},
   "outputs": [],
   "source": []
  }
 ],
 "metadata": {
  "kernelspec": {
   "display_name": "Python 3 (ipykernel)",
   "language": "python",
   "name": "python3"
  },
  "language_info": {
   "codemirror_mode": {
    "name": "ipython",
    "version": 3
   },
   "file_extension": ".py",
   "mimetype": "text/x-python",
   "name": "python",
   "nbconvert_exporter": "python",
   "pygments_lexer": "ipython3",
   "version": "3.9.5"
  },
  "vscode": {
   "interpreter": {
    "hash": "0d389dc9fdefa800e13c69b56f39c631020b5b1675d6284eff806d1dcf4693f0"
   }
  }
 },
 "nbformat": 4,
 "nbformat_minor": 5
}
