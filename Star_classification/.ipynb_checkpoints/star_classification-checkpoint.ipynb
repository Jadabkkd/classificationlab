{
 "cells": [
  {
   "cell_type": "code",
   "execution_count": 1,
   "id": "2007a04f",
   "metadata": {},
   "outputs": [],
   "source": [
    "import sklearn\n",
    "import pandas as pd\n",
    "import numpy as np\n",
    "import seaborn as sns\n",
    "from sklearn.metrics import accuracy_score, roc_auc_score\n",
    "from sklearn.preprocessing import OneHotEncoder\n",
    "from sklearn.model_selection import (\n",
    "    train_test_split,\n",
    "    KFold\n",
    ")\n",
    "import tensorflow.keras as keras"
   ]
  },
  {
   "cell_type": "code",
   "execution_count": 2,
   "id": "76bc3713",
   "metadata": {},
   "outputs": [],
   "source": [
    "df = pd.read_csv('Datasets/star_classification.csv')"
   ]
  },
  {
   "cell_type": "code",
   "execution_count": 3,
   "id": "860ea00c",
   "metadata": {},
   "outputs": [],
   "source": [
    "df = df.drop(columns='obj_ID').copy()\n",
    "df = df.sample(frac=1)"
   ]
  },
  {
   "cell_type": "code",
   "execution_count": null,
   "id": "3bc0c2f7",
   "metadata": {},
   "outputs": [],
   "source": [
    "#classes to numeric\n",
    "df['class'] = pd.factorize(df['class'],sort=True)[0]\n",
    "df.columns\n",
    "df = df[[\n",
    "    'alpha', 'delta', 'u', 'g', 'r', 'i', 'z',\n",
    "        'class', 'redshift',\n",
    "]].copy()\n",
    "df.reset_index(drop=True)"
   ]
  },
  {
   "cell_type": "code",
   "execution_count": null,
   "id": "6c12e23b",
   "metadata": {},
   "outputs": [],
   "source": [
    "pt = df['class'].value_counts()\n",
    "pt.plot(kind = 'bar')\n",
    "pt"
   ]
  },
  {
   "cell_type": "code",
   "execution_count": null,
   "id": "92b3b068",
   "metadata": {},
   "outputs": [],
   "source": [
    "snspair = df[['delta', 'alpha','redshift','u']][:1000]\n",
    "sns.pairplot(data=snspair,vars=['delta', 'alpha','redshift','u'])"
   ]
  },
  {
   "cell_type": "code",
   "execution_count": null,
   "id": "c6b7161e",
   "metadata": {},
   "outputs": [],
   "source": [
    "corr = df[['delta', 'alpha','redshift','u']].corr()\n",
    "sns.heatmap(corr,annot=True)"
   ]
  },
  {
   "cell_type": "code",
   "execution_count": null,
   "id": "be75823d",
   "metadata": {},
   "outputs": [],
   "source": [
    "features = df[[\n",
    "    'alpha', 'delta', 'u', 'g', 'r', 'i', 'z','redshift',\n",
    "]]\n",
    "\n",
    "classes = df['class'].copy().to_numpy()"
   ]
  },
  {
   "cell_type": "code",
   "execution_count": null,
   "id": "4d5b5197",
   "metadata": {},
   "outputs": [],
   "source": [
    "# one hot encode !!\n",
    "zr_arr = np.zeros((classes.size,df['class'].nunique()))\n",
    "zr_arr[np.arange(classes.size),np.hstack(classes)] = 1\n",
    "classes = zr_arr"
   ]
  },
  {
   "cell_type": "code",
   "execution_count": null,
   "id": "f8b2e8ea",
   "metadata": {},
   "outputs": [],
   "source": [
    "xtr, xtst, ytr, ytst = train_test_split(features,classes,test_size=0.15)\n",
    "df.dtypes"
   ]
  },
  {
   "cell_type": "code",
   "execution_count": null,
   "id": "f9cf8ec1",
   "metadata": {},
   "outputs": [],
   "source": [
    "kf = KFold(n_splits=10)\n",
    "\n",
    "for train_idx, test_idx in kf.split(features):\n",
    "    print(test_idx,train_idx)"
   ]
  },
  {
   "cell_type": "code",
   "execution_count": null,
   "id": "9821472e",
   "metadata": {},
   "outputs": [],
   "source": [
    "# model = keras.models.Sequential()\n",
    "# model.add(\n",
    "#     keras.layers.Flatten()\n",
    "# )\n",
    "\n",
    "# model.add(\n",
    "#     keras.layers.Dense(\n",
    "#         50, activation = keras.activations.relu    \n",
    "#     )\n",
    "# )\n",
    "\n",
    "# model.add(\n",
    "#     keras.layers.Dense(\n",
    "#         80, activation = keras.activations.sigmoid\n",
    "#     )\n",
    "# )\n",
    "\n",
    "# model.add(\n",
    "#     keras.layers.Dense(\n",
    "#         3, activation = keras.activations.softmax\n",
    "#     )\n",
    "# )\n",
    "\n",
    "# loss = keras.losses.CategoricalCrossentropy()\n",
    "\n",
    "# model.compile(optimizer=keras.optimizers.Adam(learning_rate=0.001),loss=loss,metrics=[\n",
    "#     keras.metrics.CategoricalAccuracy(),\n",
    "# ])\n",
    "\n",
    "# ft = model.fit(xtr,ytr,epochs=10000,batch_size=10000,verbose=2)\n",
    "# a = model.evaluate(xtst,ytst,verbose=2)\n",
    "\n",
    "# ax = ['categorical_accuracy','loss']\n",
    "# sns.lineplot(ft.history['categorical_accuracy'],color = 'red',label ='categorical_accuracy' )\n",
    "# sns.lineplot(ft.history['loss'],label = 'loss')"
   ]
  }
 ],
 "metadata": {
  "kernelspec": {
   "display_name": "Python 3 (ipykernel)",
   "language": "python",
   "name": "python3"
  },
  "language_info": {
   "codemirror_mode": {
    "name": "ipython",
    "version": 3
   },
   "file_extension": ".py",
   "mimetype": "text/x-python",
   "name": "python",
   "nbconvert_exporter": "python",
   "pygments_lexer": "ipython3",
   "version": "3.9.5"
  }
 },
 "nbformat": 4,
 "nbformat_minor": 5
}
