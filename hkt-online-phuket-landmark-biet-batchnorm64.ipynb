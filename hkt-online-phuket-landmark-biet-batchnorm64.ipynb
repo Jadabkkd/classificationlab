{
 "cells": [
  {
   "cell_type": "code",
   "execution_count": 1,
   "id": "5a843848",
   "metadata": {
    "_cell_guid": "b1076dfc-b9ad-4769-8c92-a6c4dae69d19",
    "_uuid": "8f2839f25d086af736a60e9eeb907d3b93b6e0e5",
    "execution": {
     "iopub.execute_input": "2023-04-26T02:25:34.525399Z",
     "iopub.status.busy": "2023-04-26T02:25:34.524675Z",
     "iopub.status.idle": "2023-04-26T02:25:45.406193Z",
     "shell.execute_reply": "2023-04-26T02:25:45.404965Z"
    },
    "papermill": {
     "duration": 10.895158,
     "end_time": "2023-04-26T02:25:45.409007",
     "exception": false,
     "start_time": "2023-04-26T02:25:34.513849",
     "status": "completed"
    },
    "tags": []
   },
   "outputs": [
    {
     "name": "stdout",
     "output_type": "stream",
     "text": [
      "Collecting augmax\r\n",
      "  Downloading augmax-0.3.1-py3-none-any.whl (21 kB)\r\n",
      "Collecting einops>=0.3\r\n",
      "  Downloading einops-0.6.1-py3-none-any.whl (42 kB)\r\n",
      "\u001b[2K     \u001b[90m━━━━━━━━━━━━━━━━━━━━━━━━━━━━━━━━━━━━━━━━\u001b[0m \u001b[32m42.2/42.2 kB\u001b[0m \u001b[31m4.1 MB/s\u001b[0m eta \u001b[36m0:00:00\u001b[0m\r\n",
      "\u001b[?25hRequirement already satisfied: jax>=0.1 in /opt/conda/lib/python3.7/site-packages (from augmax) (0.3.25)\r\n",
      "Requirement already satisfied: numpy>=1.20 in /opt/conda/lib/python3.7/site-packages (from jax>=0.1->augmax) (1.21.6)\r\n",
      "Requirement already satisfied: scipy>=1.5 in /opt/conda/lib/python3.7/site-packages (from jax>=0.1->augmax) (1.7.3)\r\n",
      "Requirement already satisfied: typing-extensions in /opt/conda/lib/python3.7/site-packages (from jax>=0.1->augmax) (4.4.0)\r\n",
      "Requirement already satisfied: opt-einsum in /opt/conda/lib/python3.7/site-packages (from jax>=0.1->augmax) (3.3.0)\r\n",
      "Installing collected packages: einops, augmax\r\n",
      "Successfully installed augmax-0.3.1 einops-0.6.1\r\n",
      "\u001b[33mWARNING: Running pip as the 'root' user can result in broken permissions and conflicting behaviour with the system package manager. It is recommended to use a virtual environment instead: https://pip.pypa.io/warnings/venv\u001b[0m\u001b[33m\r\n",
      "\u001b[0m"
     ]
    }
   ],
   "source": [
    "!pip install augmax"
   ]
  },
  {
   "cell_type": "code",
   "execution_count": 2,
   "id": "79c22593",
   "metadata": {
    "execution": {
     "iopub.execute_input": "2023-04-26T02:25:45.426152Z",
     "iopub.status.busy": "2023-04-26T02:25:45.425092Z",
     "iopub.status.idle": "2023-04-26T02:25:50.956181Z",
     "shell.execute_reply": "2023-04-26T02:25:50.954630Z"
    },
    "papermill": {
     "duration": 5.542295,
     "end_time": "2023-04-26T02:25:50.958896",
     "exception": false,
     "start_time": "2023-04-26T02:25:45.416601",
     "status": "completed"
    },
    "tags": []
   },
   "outputs": [],
   "source": [
    "## jax\n",
    "import jax\n",
    "import jax.numpy as jnp\n",
    "from jax import grad, jit, vmap, pmap\n",
    "from jax.experimental.pjit import pjit\n",
    "from jax import lax\n",
    "from jax import random\n",
    "\n",
    "from jax import make_jaxpr\n",
    "from jax import device_put\n",
    "\n",
    "## Flax\n",
    "from flax.core import freeze, unfreeze\n",
    "from flax import linen as nn\n",
    "from flax.training import train_state\n",
    "from flax import traverse_util\n",
    "\n",
    "from orbax.checkpoint import*\n",
    "\n",
    "# Optimizer for flax\n",
    "import optax\n",
    "\n",
    "import augmax as AUX\n",
    "from PIL import Image\n",
    "import cv2\n",
    "import numpy as np\n",
    "import pandas as pd\n",
    "from sklearn import datasets\n",
    "import matplotlib.pyplot as plt\n",
    "\n",
    "from sklearn.model_selection import KFold, StratifiedKFold\n",
    "\n",
    "from transformers import FlaxViTModel,FlaxCLIPModel,FlaxBeitModel\n",
    "\n",
    "import os\n",
    "import gc\n",
    "from functools import partial\n",
    "from tqdm import tqdm\n",
    "import seaborn as sns"
   ]
  },
  {
   "cell_type": "markdown",
   "id": "a9a2d254",
   "metadata": {
    "papermill": {
     "duration": 0.006976,
     "end_time": "2023-04-26T02:25:50.973448",
     "exception": false,
     "start_time": "2023-04-26T02:25:50.966472",
     "status": "completed"
    },
    "tags": []
   },
   "source": [
    "# Import Data"
   ]
  },
  {
   "cell_type": "code",
   "execution_count": 3,
   "id": "4f931bef",
   "metadata": {
    "execution": {
     "iopub.execute_input": "2023-04-26T02:25:50.989141Z",
     "iopub.status.busy": "2023-04-26T02:25:50.988566Z",
     "iopub.status.idle": "2023-04-26T02:25:51.019122Z",
     "shell.execute_reply": "2023-04-26T02:25:51.018209Z"
    },
    "papermill": {
     "duration": 0.040832,
     "end_time": "2023-04-26T02:25:51.021203",
     "exception": false,
     "start_time": "2023-04-26T02:25:50.980371",
     "status": "completed"
    },
    "tags": []
   },
   "outputs": [],
   "source": [
    "train_df_orig = pd.read_csv('../input/hackathon-online-phuket-landmark-recognition/train.csv')\n",
    "test_df_orig = pd.read_csv('../input/hackathon-online-phuket-landmark-recognition/test.csv')\n",
    "train_df = train_df_orig.rename( columns = {'id':'filename'} )\n",
    "test_df_submit = test_df_orig.rename( columns = {'id':'filename'} )"
   ]
  },
  {
   "cell_type": "code",
   "execution_count": 4,
   "id": "71dbfcc5",
   "metadata": {
    "execution": {
     "iopub.execute_input": "2023-04-26T02:25:51.036420Z",
     "iopub.status.busy": "2023-04-26T02:25:51.036129Z",
     "iopub.status.idle": "2023-04-26T02:25:51.040713Z",
     "shell.execute_reply": "2023-04-26T02:25:51.039601Z"
    },
    "papermill": {
     "duration": 0.014936,
     "end_time": "2023-04-26T02:25:51.043259",
     "exception": false,
     "start_time": "2023-04-26T02:25:51.028323",
     "status": "completed"
    },
    "tags": []
   },
   "outputs": [],
   "source": [
    "m_train_path =  '../input/hackathon-online-phuket-landmark-recognition/images/images/train/'\n",
    "m_test_path = '../input/hackathon-online-phuket-landmark-recognition/images/images/test/'"
   ]
  },
  {
   "cell_type": "code",
   "execution_count": 5,
   "id": "9dd0fd07",
   "metadata": {
    "execution": {
     "iopub.execute_input": "2023-04-26T02:25:51.058796Z",
     "iopub.status.busy": "2023-04-26T02:25:51.057981Z",
     "iopub.status.idle": "2023-04-26T02:25:51.069546Z",
     "shell.execute_reply": "2023-04-26T02:25:51.068498Z"
    },
    "papermill": {
     "duration": 0.02167,
     "end_time": "2023-04-26T02:25:51.071899",
     "exception": false,
     "start_time": "2023-04-26T02:25:51.050229",
     "status": "completed"
    },
    "tags": []
   },
   "outputs": [],
   "source": [
    "train_df['filepath'] = [ m_train_path + x for x in train_df['filename'] ]\n",
    "test_df_submit['filepath'] = [ m_test_path + x for x in test_df_submit['filename'] ]"
   ]
  },
  {
   "cell_type": "code",
   "execution_count": 6,
   "id": "ed3573ba",
   "metadata": {
    "execution": {
     "iopub.execute_input": "2023-04-26T02:25:51.089054Z",
     "iopub.status.busy": "2023-04-26T02:25:51.088754Z",
     "iopub.status.idle": "2023-04-26T02:25:51.105660Z",
     "shell.execute_reply": "2023-04-26T02:25:51.104563Z"
    },
    "papermill": {
     "duration": 0.027409,
     "end_time": "2023-04-26T02:25:51.107939",
     "exception": false,
     "start_time": "2023-04-26T02:25:51.080530",
     "status": "completed"
    },
    "tags": []
   },
   "outputs": [
    {
     "data": {
      "text/html": [
       "<div>\n",
       "<style scoped>\n",
       "    .dataframe tbody tr th:only-of-type {\n",
       "        vertical-align: middle;\n",
       "    }\n",
       "\n",
       "    .dataframe tbody tr th {\n",
       "        vertical-align: top;\n",
       "    }\n",
       "\n",
       "    .dataframe thead th {\n",
       "        text-align: right;\n",
       "    }\n",
       "</style>\n",
       "<table border=\"1\" class=\"dataframe\">\n",
       "  <thead>\n",
       "    <tr style=\"text-align: right;\">\n",
       "      <th></th>\n",
       "      <th>filename</th>\n",
       "      <th>label</th>\n",
       "      <th>filepath</th>\n",
       "    </tr>\n",
       "  </thead>\n",
       "  <tbody>\n",
       "    <tr>\n",
       "      <th>0</th>\n",
       "      <td>dc8ca8843cc05c937ae4086da5ad49f1.jpg</td>\n",
       "      <td>7</td>\n",
       "      <td>../input/hackathon-online-phuket-landmark-reco...</td>\n",
       "    </tr>\n",
       "    <tr>\n",
       "      <th>1</th>\n",
       "      <td>abf428c748961ce38012c04fb4f67a0a.jpg</td>\n",
       "      <td>10</td>\n",
       "      <td>../input/hackathon-online-phuket-landmark-reco...</td>\n",
       "    </tr>\n",
       "    <tr>\n",
       "      <th>2</th>\n",
       "      <td>7bef6daf30000b2bb9e57af7bc87b780.jpg</td>\n",
       "      <td>1</td>\n",
       "      <td>../input/hackathon-online-phuket-landmark-reco...</td>\n",
       "    </tr>\n",
       "    <tr>\n",
       "      <th>3</th>\n",
       "      <td>db6f12a84dedc23e3d55320a9149d69a.jpg</td>\n",
       "      <td>7</td>\n",
       "      <td>../input/hackathon-online-phuket-landmark-reco...</td>\n",
       "    </tr>\n",
       "    <tr>\n",
       "      <th>4</th>\n",
       "      <td>8d17fcf554881b42a070162c19f73f3a.jpg</td>\n",
       "      <td>8</td>\n",
       "      <td>../input/hackathon-online-phuket-landmark-reco...</td>\n",
       "    </tr>\n",
       "    <tr>\n",
       "      <th>...</th>\n",
       "      <td>...</td>\n",
       "      <td>...</td>\n",
       "      <td>...</td>\n",
       "    </tr>\n",
       "    <tr>\n",
       "      <th>2720</th>\n",
       "      <td>50db1fe1991abf6aaf36f6f4f1b66cd4.jpg</td>\n",
       "      <td>3</td>\n",
       "      <td>../input/hackathon-online-phuket-landmark-reco...</td>\n",
       "    </tr>\n",
       "    <tr>\n",
       "      <th>2721</th>\n",
       "      <td>c0cdb5a4aa8060e763bcaae3cd7cc702.jpg</td>\n",
       "      <td>14</td>\n",
       "      <td>../input/hackathon-online-phuket-landmark-reco...</td>\n",
       "    </tr>\n",
       "    <tr>\n",
       "      <th>2722</th>\n",
       "      <td>c953c76faa7580b3b00be8856f6e9d98.jpg</td>\n",
       "      <td>8</td>\n",
       "      <td>../input/hackathon-online-phuket-landmark-reco...</td>\n",
       "    </tr>\n",
       "    <tr>\n",
       "      <th>2723</th>\n",
       "      <td>174cae6121652e3527460e8f52672875.jpg</td>\n",
       "      <td>4</td>\n",
       "      <td>../input/hackathon-online-phuket-landmark-reco...</td>\n",
       "    </tr>\n",
       "    <tr>\n",
       "      <th>2724</th>\n",
       "      <td>86d093e63af91050ede4a16c2965844d.jpg</td>\n",
       "      <td>13</td>\n",
       "      <td>../input/hackathon-online-phuket-landmark-reco...</td>\n",
       "    </tr>\n",
       "  </tbody>\n",
       "</table>\n",
       "<p>2725 rows × 3 columns</p>\n",
       "</div>"
      ],
      "text/plain": [
       "                                  filename  label  \\\n",
       "0     dc8ca8843cc05c937ae4086da5ad49f1.jpg      7   \n",
       "1     abf428c748961ce38012c04fb4f67a0a.jpg     10   \n",
       "2     7bef6daf30000b2bb9e57af7bc87b780.jpg      1   \n",
       "3     db6f12a84dedc23e3d55320a9149d69a.jpg      7   \n",
       "4     8d17fcf554881b42a070162c19f73f3a.jpg      8   \n",
       "...                                    ...    ...   \n",
       "2720  50db1fe1991abf6aaf36f6f4f1b66cd4.jpg      3   \n",
       "2721  c0cdb5a4aa8060e763bcaae3cd7cc702.jpg     14   \n",
       "2722  c953c76faa7580b3b00be8856f6e9d98.jpg      8   \n",
       "2723  174cae6121652e3527460e8f52672875.jpg      4   \n",
       "2724  86d093e63af91050ede4a16c2965844d.jpg     13   \n",
       "\n",
       "                                               filepath  \n",
       "0     ../input/hackathon-online-phuket-landmark-reco...  \n",
       "1     ../input/hackathon-online-phuket-landmark-reco...  \n",
       "2     ../input/hackathon-online-phuket-landmark-reco...  \n",
       "3     ../input/hackathon-online-phuket-landmark-reco...  \n",
       "4     ../input/hackathon-online-phuket-landmark-reco...  \n",
       "...                                                 ...  \n",
       "2720  ../input/hackathon-online-phuket-landmark-reco...  \n",
       "2721  ../input/hackathon-online-phuket-landmark-reco...  \n",
       "2722  ../input/hackathon-online-phuket-landmark-reco...  \n",
       "2723  ../input/hackathon-online-phuket-landmark-reco...  \n",
       "2724  ../input/hackathon-online-phuket-landmark-reco...  \n",
       "\n",
       "[2725 rows x 3 columns]"
      ]
     },
     "execution_count": 6,
     "metadata": {},
     "output_type": "execute_result"
    }
   ],
   "source": [
    "train_df"
   ]
  },
  {
   "cell_type": "markdown",
   "id": "0dfb92e9",
   "metadata": {
    "papermill": {
     "duration": 0.007339,
     "end_time": "2023-04-26T02:25:51.122921",
     "exception": false,
     "start_time": "2023-04-26T02:25:51.115582",
     "status": "completed"
    },
    "tags": []
   },
   "source": [
    "# EDA"
   ]
  },
  {
   "cell_type": "code",
   "execution_count": 7,
   "id": "b167d20f",
   "metadata": {
    "execution": {
     "iopub.execute_input": "2023-04-26T02:25:51.140311Z",
     "iopub.status.busy": "2023-04-26T02:25:51.139348Z",
     "iopub.status.idle": "2023-04-26T02:25:51.144667Z",
     "shell.execute_reply": "2023-04-26T02:25:51.143697Z"
    },
    "papermill": {
     "duration": 0.016432,
     "end_time": "2023-04-26T02:25:51.147098",
     "exception": false,
     "start_time": "2023-04-26T02:25:51.130666",
     "status": "completed"
    },
    "tags": []
   },
   "outputs": [],
   "source": [
    "# rand_arr = np.random.randint(0,135,5)\n",
    "# vrows = 5\n",
    "# fig, axes = plt.subplots(15,vrows,figsize = (12,12))\n",
    "# for i in tqdm(range(15)):\n",
    "#     for j,d in enumerate(rand_arr):\n",
    "#         img_path = train_df[train_df.label == i].iloc[d,0]\n",
    "#         img_path = m_train_path + img_path\n",
    "#         img_arr = cv2.imread(img_path)\n",
    "#         img_arr = cv2.cvtColor(img_arr, cv2.COLOR_BGR2RGB)\n",
    "        \n",
    "#         ax = axes[i,j]\n",
    "#         ax.imshow(img_arr)\n",
    "#         ax.set_title(f'c : {i}')\n",
    "    "
   ]
  },
  {
   "cell_type": "code",
   "execution_count": 8,
   "id": "c7d17e55",
   "metadata": {
    "execution": {
     "iopub.execute_input": "2023-04-26T02:25:51.163484Z",
     "iopub.status.busy": "2023-04-26T02:25:51.163196Z",
     "iopub.status.idle": "2023-04-26T02:25:51.167482Z",
     "shell.execute_reply": "2023-04-26T02:25:51.166363Z"
    },
    "papermill": {
     "duration": 0.015454,
     "end_time": "2023-04-26T02:25:51.169798",
     "exception": false,
     "start_time": "2023-04-26T02:25:51.154344",
     "status": "completed"
    },
    "tags": []
   },
   "outputs": [],
   "source": [
    "# sns.countplot(x = train_df['label'])"
   ]
  },
  {
   "cell_type": "markdown",
   "id": "da565ae6",
   "metadata": {
    "execution": {
     "iopub.execute_input": "2023-04-22T01:42:37.931777Z",
     "iopub.status.busy": "2023-04-22T01:42:37.931455Z",
     "iopub.status.idle": "2023-04-22T01:42:37.948999Z",
     "shell.execute_reply": "2023-04-22T01:42:37.948107Z",
     "shell.execute_reply.started": "2023-04-22T01:42:37.931745Z"
    },
    "papermill": {
     "duration": 0.006922,
     "end_time": "2023-04-26T02:25:51.184090",
     "exception": false,
     "start_time": "2023-04-26T02:25:51.177168",
     "status": "completed"
    },
    "tags": []
   },
   "source": [
    "# Upsampling"
   ]
  },
  {
   "cell_type": "code",
   "execution_count": 9,
   "id": "e445490c",
   "metadata": {
    "execution": {
     "iopub.execute_input": "2023-04-26T02:25:51.199934Z",
     "iopub.status.busy": "2023-04-26T02:25:51.199093Z",
     "iopub.status.idle": "2023-04-26T02:25:51.204710Z",
     "shell.execute_reply": "2023-04-26T02:25:51.203480Z"
    },
    "papermill": {
     "duration": 0.015943,
     "end_time": "2023-04-26T02:25:51.207057",
     "exception": false,
     "start_time": "2023-04-26T02:25:51.191114",
     "status": "completed"
    },
    "tags": []
   },
   "outputs": [],
   "source": [
    "# up_df = []\n",
    "# l_max = train_df['label'].value_counts().max()\n",
    "# np.random.seed(1995)\n",
    "# for c in range(train_df['label'].nunique()):\n",
    "#     df = train_df[train_df['label'] == c].reset_index(drop = True)\n",
    "#     up_df.append( \n",
    "#         df.loc[np.random.randint(0,len(df), l_max - len(df))]\n",
    "#     )\n",
    "\n",
    "# print(l_max)"
   ]
  },
  {
   "cell_type": "code",
   "execution_count": 10,
   "id": "436db000",
   "metadata": {
    "execution": {
     "iopub.execute_input": "2023-04-26T02:25:51.222829Z",
     "iopub.status.busy": "2023-04-26T02:25:51.221956Z",
     "iopub.status.idle": "2023-04-26T02:25:51.226388Z",
     "shell.execute_reply": "2023-04-26T02:25:51.225311Z"
    },
    "papermill": {
     "duration": 0.01434,
     "end_time": "2023-04-26T02:25:51.228442",
     "exception": false,
     "start_time": "2023-04-26T02:25:51.214102",
     "status": "completed"
    },
    "tags": []
   },
   "outputs": [],
   "source": [
    "# up_df.append(train_df)\n",
    "# upsamp_train_df = pd.concat(up_df,ignore_index = True)"
   ]
  },
  {
   "cell_type": "code",
   "execution_count": 11,
   "id": "b36ad4d6",
   "metadata": {
    "execution": {
     "iopub.execute_input": "2023-04-26T02:25:51.243530Z",
     "iopub.status.busy": "2023-04-26T02:25:51.243265Z",
     "iopub.status.idle": "2023-04-26T02:25:51.247238Z",
     "shell.execute_reply": "2023-04-26T02:25:51.246191Z"
    },
    "papermill": {
     "duration": 0.013965,
     "end_time": "2023-04-26T02:25:51.249418",
     "exception": false,
     "start_time": "2023-04-26T02:25:51.235453",
     "status": "completed"
    },
    "tags": []
   },
   "outputs": [],
   "source": [
    "# sns.countplot(x = upsamp_train_df['label'])"
   ]
  },
  {
   "cell_type": "code",
   "execution_count": 12,
   "id": "73f521b4",
   "metadata": {
    "execution": {
     "iopub.execute_input": "2023-04-26T02:25:51.264800Z",
     "iopub.status.busy": "2023-04-26T02:25:51.264537Z",
     "iopub.status.idle": "2023-04-26T02:25:51.268233Z",
     "shell.execute_reply": "2023-04-26T02:25:51.267164Z"
    },
    "papermill": {
     "duration": 0.013899,
     "end_time": "2023-04-26T02:25:51.270254",
     "exception": false,
     "start_time": "2023-04-26T02:25:51.256355",
     "status": "completed"
    },
    "tags": []
   },
   "outputs": [],
   "source": [
    "# upsamp_train_df = upsamp_train_df.sample(frac = 1, random_state = 1995).reset_index(drop = True)"
   ]
  },
  {
   "cell_type": "code",
   "execution_count": 13,
   "id": "7a22383e",
   "metadata": {
    "execution": {
     "iopub.execute_input": "2023-04-26T02:25:51.285402Z",
     "iopub.status.busy": "2023-04-26T02:25:51.285136Z",
     "iopub.status.idle": "2023-04-26T02:25:51.293976Z",
     "shell.execute_reply": "2023-04-26T02:25:51.293084Z"
    },
    "papermill": {
     "duration": 0.01885,
     "end_time": "2023-04-26T02:25:51.296144",
     "exception": false,
     "start_time": "2023-04-26T02:25:51.277294",
     "status": "completed"
    },
    "tags": []
   },
   "outputs": [],
   "source": [
    "upsamp_train_df = train_df.sample(frac = 1, random_state = 1995).reset_index(drop = True)"
   ]
  },
  {
   "cell_type": "code",
   "execution_count": 14,
   "id": "ab819399",
   "metadata": {
    "execution": {
     "iopub.execute_input": "2023-04-26T02:25:51.312745Z",
     "iopub.status.busy": "2023-04-26T02:25:51.311212Z",
     "iopub.status.idle": "2023-04-26T02:25:51.315864Z",
     "shell.execute_reply": "2023-04-26T02:25:51.314939Z"
    },
    "papermill": {
     "duration": 0.014706,
     "end_time": "2023-04-26T02:25:51.317882",
     "exception": false,
     "start_time": "2023-04-26T02:25:51.303176",
     "status": "completed"
    },
    "tags": []
   },
   "outputs": [],
   "source": [
    "# upsamp_train_df"
   ]
  },
  {
   "cell_type": "markdown",
   "id": "3b522a84",
   "metadata": {
    "papermill": {
     "duration": 0.006895,
     "end_time": "2023-04-26T02:25:51.331860",
     "exception": false,
     "start_time": "2023-04-26T02:25:51.324965",
     "status": "completed"
    },
    "tags": []
   },
   "source": [
    "# Preprocessing"
   ]
  },
  {
   "cell_type": "code",
   "execution_count": 15,
   "id": "dd671713",
   "metadata": {
    "execution": {
     "iopub.execute_input": "2023-04-26T02:25:51.348263Z",
     "iopub.status.busy": "2023-04-26T02:25:51.346840Z",
     "iopub.status.idle": "2023-04-26T02:25:51.352451Z",
     "shell.execute_reply": "2023-04-26T02:25:51.351547Z"
    },
    "papermill": {
     "duration": 0.015717,
     "end_time": "2023-04-26T02:25:51.354534",
     "exception": false,
     "start_time": "2023-04-26T02:25:51.338817",
     "status": "completed"
    },
    "tags": []
   },
   "outputs": [],
   "source": [
    "transform = AUX.Chain(\n",
    "    AUX.HorizontalFlip(p = .2),\n",
    "    AUX.VerticalFlip(p = .2),\n",
    "    AUX.Rotate(p = .2),\n",
    "    AUX.RandomContrast(range = (-.5,.5),p = .2),\n",
    "    AUX.ByteToFloat(),\n",
    "#     AUX.Normalize(),\n",
    ")"
   ]
  },
  {
   "cell_type": "code",
   "execution_count": 16,
   "id": "1286c0a2",
   "metadata": {
    "execution": {
     "iopub.execute_input": "2023-04-26T02:25:51.370909Z",
     "iopub.status.busy": "2023-04-26T02:25:51.369480Z",
     "iopub.status.idle": "2023-04-26T02:25:51.381433Z",
     "shell.execute_reply": "2023-04-26T02:25:51.380529Z"
    },
    "papermill": {
     "duration": 0.022058,
     "end_time": "2023-04-26T02:25:51.383705",
     "exception": false,
     "start_time": "2023-04-26T02:25:51.361647",
     "status": "completed"
    },
    "tags": []
   },
   "outputs": [],
   "source": [
    "class Dataload:\n",
    "    def __init__(self,df,classes = None,img_size = 224,batch_size = 32,transform = None):\n",
    "        self.classes = classes\n",
    "        self.df = df\n",
    "        self.batch_size = batch_size\n",
    "        self.transform = transform\n",
    "        self.rng = random.PRNGKey(1995)\n",
    "        self.datasize = len(self.df)\n",
    "        self.batch_idx = list(range(0,self.datasize,self.batch_size))\n",
    "        self.img_size = img_size\n",
    "        \n",
    "        ### modify\n",
    "        \n",
    "    def get_batch(self,idx,train = True):\n",
    "#         data_batch = np.zeros((self.batch_size,self.img_size,self.img_size,3))\n",
    "        data_batch = []\n",
    "        label_batch = list()\n",
    "        sliced_df = self.df[ idx:idx + self.batch_size ]\n",
    "        for i,data in enumerate(sliced_df.iterrows()):\n",
    "            img = cv2.imread(data[1]['filepath'],cv2.IMREAD_COLOR)\n",
    "#             img = jnp.array(img,dtype = jnp.float32)\n",
    "            img = cv2.resize(img,(self.img_size,self.img_size))\n",
    "            data_batch.append(img)\n",
    "            \n",
    "            if train:\n",
    "                label = data[1]['label']\n",
    "                z = np.zeros(self.classes)\n",
    "                z[label] = 1\n",
    "                label_batch.append(z)\n",
    "        \n",
    "        # Random mini Batch        \n",
    "        if train:\n",
    "            idx = np.arange(len(data_batch))\n",
    "            idx = np.random.shuffle(idx)\n",
    "            label_batch = np.array(label_batch)[idx,:]\n",
    "            data_batch = np.array(data_batch)\n",
    "            data_batch = data_batch[idx,:][0]\n",
    "        \n",
    "        data_batch = jnp.array(data_batch,dtype = jnp.float32)\n",
    "        \n",
    "        if self.transform:\n",
    "            if train:\n",
    "                data_batch = jax.jit(jax.vmap(self.transform, in_axes = [None, 0]))\\\n",
    "                                (self.rng, data_batch).block_until_ready()\n",
    "            else:\n",
    "                transform = AUX.Chain(\n",
    "                    AUX.ByteToFloat(),\n",
    "#                     AUX.Normalize(),\n",
    "                )\n",
    "                data_batch = jax.jit(jax.vmap(transform, in_axes = [None, 0]))\\\n",
    "                                (self.rng, data_batch).block_until_ready()\n",
    "                \n",
    "            \n",
    "        return data_batch,jnp.array(label_batch)"
   ]
  },
  {
   "cell_type": "markdown",
   "id": "503b9436",
   "metadata": {
    "papermill": {
     "duration": 0.006903,
     "end_time": "2023-04-26T02:25:51.397649",
     "exception": false,
     "start_time": "2023-04-26T02:25:51.390746",
     "status": "completed"
    },
    "tags": []
   },
   "source": [
    "# Modeling"
   ]
  },
  {
   "cell_type": "code",
   "execution_count": 17,
   "id": "30946ae8",
   "metadata": {
    "execution": {
     "iopub.execute_input": "2023-04-26T02:25:51.413917Z",
     "iopub.status.busy": "2023-04-26T02:25:51.412476Z",
     "iopub.status.idle": "2023-04-26T02:25:51.420151Z",
     "shell.execute_reply": "2023-04-26T02:25:51.419204Z"
    },
    "papermill": {
     "duration": 0.017451,
     "end_time": "2023-04-26T02:25:51.422157",
     "exception": false,
     "start_time": "2023-04-26T02:25:51.404706",
     "status": "completed"
    },
    "tags": []
   },
   "outputs": [],
   "source": [
    "class ClassifierHead(nn.Module):\n",
    "    num_classes: int\n",
    "    backbone: nn.Module\n",
    "  \n",
    "\n",
    "    @nn.compact\n",
    "    def __call__(self, x, train : bool):\n",
    "        x = self.backbone(x).pooler_output\n",
    "        stk = nn.Dense(750, name='head0', kernel_init= nn.initializers.he_normal())(x)\n",
    "        stk = nn.BatchNorm(use_running_average = not train)(stk)\n",
    "        stk = nn.activation.elu(stk)\n",
    "#         stk = nn.Dense(256, name='head1', kernel_init= nn.initializers.glorot_uniform())(stk)\n",
    "#         stk = nn.activation.relu(stk)\n",
    "#         stk = nn.activation.elu(stk)\n",
    "        stk = nn.Dense(15, name='head3', kernel_init= nn.initializers.he_normal())(stk)\n",
    "        return stk"
   ]
  },
  {
   "cell_type": "code",
   "execution_count": 18,
   "id": "753bf686",
   "metadata": {
    "_kg_hide-output": true,
    "execution": {
     "iopub.execute_input": "2023-04-26T02:25:51.437443Z",
     "iopub.status.busy": "2023-04-26T02:25:51.437184Z",
     "iopub.status.idle": "2023-04-26T02:26:16.848770Z",
     "shell.execute_reply": "2023-04-26T02:26:16.847720Z"
    },
    "papermill": {
     "duration": 25.422218,
     "end_time": "2023-04-26T02:26:16.851536",
     "exception": false,
     "start_time": "2023-04-26T02:25:51.429318",
     "status": "completed"
    },
    "tags": []
   },
   "outputs": [
    {
     "data": {
      "application/vnd.jupyter.widget-view+json": {
       "model_id": "e917c663b703426e853ff33b0f56a9e3",
       "version_major": 2,
       "version_minor": 0
      },
      "text/plain": [
       "Downloading (…)lve/main/config.json:   0%|          | 0.00/69.9k [00:00<?, ?B/s]"
      ]
     },
     "metadata": {},
     "output_type": "display_data"
    },
    {
     "data": {
      "application/vnd.jupyter.widget-view+json": {
       "model_id": "fb7b0fe3f2ac428ca0f1a29933ae376e",
       "version_major": 2,
       "version_minor": 0
      },
      "text/plain": [
       "Downloading flax_model.msgpack:   0%|          | 0.00/346M [00:00<?, ?B/s]"
      ]
     },
     "metadata": {},
     "output_type": "display_data"
    }
   ],
   "source": [
    "clipmodel = FlaxBeitModel.from_pretrained(\"microsoft/beit-base-patch16-224\")\n",
    "model = ClassifierHead(num_classes = train_df['label'].nunique(), backbone = clipmodel.module)"
   ]
  },
  {
   "cell_type": "code",
   "execution_count": 19,
   "id": "f4ce12a3",
   "metadata": {
    "execution": {
     "iopub.execute_input": "2023-04-26T02:26:16.869020Z",
     "iopub.status.busy": "2023-04-26T02:26:16.868700Z",
     "iopub.status.idle": "2023-04-26T02:26:28.254868Z",
     "shell.execute_reply": "2023-04-26T02:26:28.253740Z"
    },
    "papermill": {
     "duration": 11.397876,
     "end_time": "2023-04-26T02:26:28.257772",
     "exception": false,
     "start_time": "2023-04-26T02:26:16.859896",
     "status": "completed"
    },
    "tags": []
   },
   "outputs": [],
   "source": [
    "x = jnp.empty((1, 224, 224, 3))\n",
    "init_key = random.PRNGKey(1995)\n",
    "variables = model.init(init_key, x, train = False)\n",
    "### manage pretrained params\n",
    "params = variables['params'].unfreeze()\n",
    "params['backbone'] = clipmodel.params\n",
    "params = freeze(params)\n",
    "## Batch stats container\n",
    "batch_stats = variables['batch_stats']"
   ]
  },
  {
   "cell_type": "code",
   "execution_count": 20,
   "id": "26d58464",
   "metadata": {
    "execution": {
     "iopub.execute_input": "2023-04-26T02:26:28.274438Z",
     "iopub.status.busy": "2023-04-26T02:26:28.274130Z",
     "iopub.status.idle": "2023-04-26T02:26:28.285959Z",
     "shell.execute_reply": "2023-04-26T02:26:28.285056Z"
    },
    "papermill": {
     "duration": 0.022641,
     "end_time": "2023-04-26T02:26:28.288086",
     "exception": false,
     "start_time": "2023-04-26T02:26:28.265445",
     "status": "completed"
    },
    "tags": []
   },
   "outputs": [],
   "source": [
    "# Optimizer for freeze and unfreeze params\n",
    "partition_optimizers = {'trainable': optax.adam(0.5e-3), 'frozen': optax.set_to_zero()}\n",
    "traverse = traverse_util.path_aware_map( lambda path, v: 'frozen' if 'backbone' in path else 'trainable', params )\n",
    "param_partitions = freeze(traverse)\n",
    "tx = optax.multi_transform(partition_optimizers, param_partitions)"
   ]
  },
  {
   "cell_type": "code",
   "execution_count": 21,
   "id": "500b09d5",
   "metadata": {
    "execution": {
     "iopub.execute_input": "2023-04-26T02:26:28.303993Z",
     "iopub.status.busy": "2023-04-26T02:26:28.303720Z",
     "iopub.status.idle": "2023-04-26T02:26:28.463592Z",
     "shell.execute_reply": "2023-04-26T02:26:28.462562Z"
    },
    "papermill": {
     "duration": 0.171015,
     "end_time": "2023-04-26T02:26:28.466240",
     "exception": false,
     "start_time": "2023-04-26T02:26:28.295225",
     "status": "completed"
    },
    "tags": []
   },
   "outputs": [],
   "source": [
    "class TrainState(train_state.TrainState):\n",
    "    batch_stats : any\n",
    "\n",
    "state = TrainState.create(\n",
    "    apply_fn=model.apply,\n",
    "    params=params,\n",
    "    batch_stats = batch_stats,\n",
    "    tx=tx,\n",
    ")"
   ]
  },
  {
   "cell_type": "markdown",
   "id": "d09e3835",
   "metadata": {
    "papermill": {
     "duration": 0.007133,
     "end_time": "2023-04-26T02:26:28.480984",
     "exception": false,
     "start_time": "2023-04-26T02:26:28.473851",
     "status": "completed"
    },
    "tags": []
   },
   "source": [
    "# Train one step"
   ]
  },
  {
   "cell_type": "code",
   "execution_count": 22,
   "id": "c1a1acce",
   "metadata": {
    "execution": {
     "iopub.execute_input": "2023-04-26T02:26:28.498191Z",
     "iopub.status.busy": "2023-04-26T02:26:28.497779Z",
     "iopub.status.idle": "2023-04-26T02:26:28.509269Z",
     "shell.execute_reply": "2023-04-26T02:26:28.508205Z"
    },
    "papermill": {
     "duration": 0.022727,
     "end_time": "2023-04-26T02:26:28.511600",
     "exception": false,
     "start_time": "2023-04-26T02:26:28.488873",
     "status": "completed"
    },
    "tags": []
   },
   "outputs": [],
   "source": [
    "@jit\n",
    "def train_step(state, batch):\n",
    "    \"\"\"Train for a single step.\"\"\"\n",
    "    def loss_fn(params):\n",
    "        logits, updates = state.apply_fn(\n",
    "            {'params': params, 'batch_stats': state.batch_stats},\n",
    "            x=batch[0],train = True, mutable = ['batch_stats'] )\n",
    "        loss = jnp.mean(optax.softmax_cross_entropy(logits, batch[1]))\n",
    "        return loss, (logits, updates)\n",
    "    grad_fn = jax.value_and_grad(loss_fn, has_aux=True)\n",
    "    (loss, (logits, updates)), grads = grad_fn(state.params)\n",
    "    state = state.apply_gradients(grads=grads)\n",
    "    state = state.replace(batch_stats = updates['batch_stats'])\n",
    "\n",
    "    metrics = {\n",
    "    'loss': loss,\n",
    "      'accuracy': jnp.mean(jnp.argmax(logits, -1) == jnp.argmax(batch[1],-1)),\n",
    "    }\n",
    "    return state, metrics\n",
    "\n",
    "\n",
    "@jit\n",
    "def eval_step(state, batch):\n",
    "    \"\"\"Eval for a single step.\"\"\"\n",
    "    logits = state.apply_fn(\n",
    "        {'params': state.params, 'batch_stats': state.batch_stats},\n",
    "        x=batch[0], train = False)\n",
    "    loss = jnp.mean(optax.softmax_cross_entropy(logits, batch[1]))\n",
    "\n",
    "    metrics = {\n",
    "    'loss': loss,\n",
    "      'accuracy': jnp.mean(jnp.argmax(logits, -1) == jnp.argmax(batch[1],-1)),\n",
    "    }\n",
    "    return state, metrics\n",
    "\n",
    "@jit\n",
    "def predict_step(state, batch):\n",
    "    \"\"\"Eval for a single step.\"\"\"\n",
    "    logits = state.apply_fn(\n",
    "        {'params': state.params, 'batch_stats': state.batch_stats},\n",
    "        x=batch[0], train = False)\n",
    "    return logits"
   ]
  },
  {
   "cell_type": "markdown",
   "id": "5aa95d31",
   "metadata": {
    "papermill": {
     "duration": 0.007635,
     "end_time": "2023-04-26T02:26:28.526895",
     "exception": false,
     "start_time": "2023-04-26T02:26:28.519260",
     "status": "completed"
    },
    "tags": []
   },
   "source": [
    "# Train whole dataset"
   ]
  },
  {
   "cell_type": "code",
   "execution_count": 23,
   "id": "38c90eda",
   "metadata": {
    "execution": {
     "iopub.execute_input": "2023-04-26T02:26:28.543609Z",
     "iopub.status.busy": "2023-04-26T02:26:28.543274Z",
     "iopub.status.idle": "2023-04-26T02:26:28.555170Z",
     "shell.execute_reply": "2023-04-26T02:26:28.553847Z"
    },
    "papermill": {
     "duration": 0.023411,
     "end_time": "2023-04-26T02:26:28.557989",
     "exception": false,
     "start_time": "2023-04-26T02:26:28.534578",
     "status": "completed"
    },
    "tags": []
   },
   "outputs": [],
   "source": [
    "def _fit(state,train_df,batch_size):\n",
    "    loss = []\n",
    "    auc = []\n",
    "    loader = Dataload(train_df,train_df['label'].nunique(),transform = transform,batch_size = batch_size)\n",
    "    for idx,i in enumerate(tqdm(loader.batch_idx)):\n",
    "        d = loader.get_batch(i)\n",
    "        state, mtx = train_step(state,d)\n",
    "        loss.append(mtx['loss'])\n",
    "        auc.append(mtx['accuracy'])\n",
    "        if (idx + 1) % 10 == 0:\n",
    "            print(f'Loss: {(sum(loss) / (idx+1)):.4f} | AUC:{(sum(auc) / (idx+1)):.4f}')\n",
    "\n",
    "    return state,loss,auc\n",
    "\n",
    "def _eval(state,test_df,batch_size):\n",
    "    loss = []\n",
    "    auc = []\n",
    "    transform_ev = AUX.Chain(\n",
    "                    AUX.ByteToFloat(),\n",
    "#                     AUX.Normalize(),\n",
    "                )\n",
    "    loader = Dataload(test_df,test_df['label'].nunique(),transform = transform_ev,batch_size = batch_size)\n",
    "    for idx,i in enumerate(tqdm(loader.batch_idx)):\n",
    "        d = loader.get_batch(i)\n",
    "        state, mtx = eval_step(state,d)\n",
    "        loss.append(mtx['loss'])\n",
    "        auc.append(mtx['accuracy'])\n",
    "    \n",
    "    print(f'Loss: {(sum(loss) / len(loader.batch_idx)):.4f} | AUC:{(sum(auc) / len(loader.batch_idx)):.4f}')\n",
    "    \n",
    "    return state,loss,auc\n",
    "\n",
    "def _predict(state,test_df,batch_size):\n",
    "    logits = []\n",
    "    loader = Dataload(test_df,0,transform = transform,batch_size = batch_size)\n",
    "    for idx,i in enumerate(tqdm(loader.batch_idx)):\n",
    "        d = loader.get_batch(i,train = False)\n",
    "        logit = predict_step(state,d)\n",
    "        logits.append(np.array(jnp.argmax(logit,-1)))\n",
    "    \n",
    "    return logits"
   ]
  },
  {
   "cell_type": "code",
   "execution_count": 24,
   "id": "913169db",
   "metadata": {
    "_kg_hide-output": true,
    "execution": {
     "iopub.execute_input": "2023-04-26T02:26:28.574829Z",
     "iopub.status.busy": "2023-04-26T02:26:28.574527Z",
     "iopub.status.idle": "2023-04-26T02:31:07.919007Z",
     "shell.execute_reply": "2023-04-26T02:31:07.917680Z"
    },
    "papermill": {
     "duration": 279.356175,
     "end_time": "2023-04-26T02:31:07.921890",
     "exception": false,
     "start_time": "2023-04-26T02:26:28.565715",
     "status": "completed"
    },
    "tags": []
   },
   "outputs": [
    {
     "name": "stdout",
     "output_type": "stream",
     "text": [
      "------- Fold 1 --------\n"
     ]
    },
    {
     "name": "stderr",
     "output_type": "stream",
     "text": [
      " 34%|███▍      | 10/29 [00:35<00:48,  2.56s/it]"
     ]
    },
    {
     "name": "stdout",
     "output_type": "stream",
     "text": [
      "Loss: 1.5414 | AUC:0.5594\n"
     ]
    },
    {
     "name": "stderr",
     "output_type": "stream",
     "text": [
      " 69%|██████▉   | 20/29 [00:59<00:21,  2.43s/it]"
     ]
    },
    {
     "name": "stdout",
     "output_type": "stream",
     "text": [
      "Loss: 0.9754 | AUC:0.7188\n"
     ]
    },
    {
     "name": "stderr",
     "output_type": "stream",
     "text": [
      "100%|██████████| 29/29 [01:28<00:00,  3.05s/it]\n"
     ]
    },
    {
     "name": "stdout",
     "output_type": "stream",
     "text": [
      "------ Eval --------\n"
     ]
    },
    {
     "name": "stderr",
     "output_type": "stream",
     "text": [
      "100%|██████████| 15/15 [00:32<00:00,  2.20s/it]\n"
     ]
    },
    {
     "name": "stdout",
     "output_type": "stream",
     "text": [
      "Loss: 0.3606 | AUC:0.8897\n",
      "------- Fold 2 --------\n"
     ]
    },
    {
     "name": "stderr",
     "output_type": "stream",
     "text": [
      " 34%|███▍      | 10/29 [00:18<00:39,  2.10s/it]"
     ]
    },
    {
     "name": "stdout",
     "output_type": "stream",
     "text": [
      "Loss: 0.2241 | AUC:0.9328\n"
     ]
    },
    {
     "name": "stderr",
     "output_type": "stream",
     "text": [
      " 69%|██████▉   | 20/29 [00:38<00:17,  1.96s/it]"
     ]
    },
    {
     "name": "stdout",
     "output_type": "stream",
     "text": [
      "Loss: 0.2018 | AUC:0.9398\n"
     ]
    },
    {
     "name": "stderr",
     "output_type": "stream",
     "text": [
      "100%|██████████| 29/29 [01:05<00:00,  2.25s/it]\n"
     ]
    },
    {
     "name": "stdout",
     "output_type": "stream",
     "text": [
      "------ Eval --------\n"
     ]
    },
    {
     "name": "stderr",
     "output_type": "stream",
     "text": [
      "100%|██████████| 15/15 [00:21<00:00,  1.44s/it]\n"
     ]
    },
    {
     "name": "stdout",
     "output_type": "stream",
     "text": [
      "Loss: 0.1403 | AUC:0.9594\n",
      "------- Fold 3 --------\n"
     ]
    },
    {
     "name": "stderr",
     "output_type": "stream",
     "text": [
      " 34%|███▍      | 10/29 [00:18<00:38,  2.01s/it]"
     ]
    },
    {
     "name": "stdout",
     "output_type": "stream",
     "text": [
      "Loss: 0.1092 | AUC:0.9734\n"
     ]
    },
    {
     "name": "stderr",
     "output_type": "stream",
     "text": [
      " 69%|██████▉   | 20/29 [00:36<00:17,  1.98s/it]"
     ]
    },
    {
     "name": "stdout",
     "output_type": "stream",
     "text": [
      "Loss: 0.1098 | AUC:0.9727\n"
     ]
    },
    {
     "name": "stderr",
     "output_type": "stream",
     "text": [
      "100%|██████████| 29/29 [00:51<00:00,  1.77s/it]\n"
     ]
    },
    {
     "name": "stdout",
     "output_type": "stream",
     "text": [
      "------ Eval --------\n"
     ]
    },
    {
     "name": "stderr",
     "output_type": "stream",
     "text": [
      "100%|██████████| 15/15 [00:16<00:00,  1.10s/it]"
     ]
    },
    {
     "name": "stdout",
     "output_type": "stream",
     "text": [
      "Loss: 0.0565 | AUC:0.9865\n"
     ]
    },
    {
     "name": "stderr",
     "output_type": "stream",
     "text": [
      "\n"
     ]
    }
   ],
   "source": [
    "fold = KFold(n_splits=3, random_state=1995, shuffle=True)\n",
    "# Watch list\n",
    "train_losses = []\n",
    "test_losses = []\n",
    "\n",
    "train_auc = []\n",
    "test_auc = []\n",
    "########\n",
    "\n",
    "#check point manager\n",
    "options = CheckpointManagerOptions(max_to_keep=5)\n",
    "mngr = CheckpointManager(\n",
    "          'zckpt',PyTreeCheckpointer(),options=options)\n",
    "#####\n",
    "for _ in range(1):\n",
    "    for i, (train_idx, test_idx) in enumerate(fold.split( upsamp_train_df['filename'])):\n",
    "        train_df = upsamp_train_df.loc[train_idx]\n",
    "        test_df = upsamp_train_df.loc[test_idx]\n",
    "        print(f'------- Fold {i+1} --------')\n",
    "        state, loss, auc = _fit(state,train_df,64)\n",
    "        train_losses.append(loss)\n",
    "        train_auc.append(auc)\n",
    "        print('------ Eval --------')\n",
    "        state, loss, auc = _eval(state,test_df,64)\n",
    "        test_losses.append(loss)\n",
    "        test_auc.append(auc)\n",
    "#         mngr.save(i,{'model':state})\n",
    "    \n",
    "# mngr.wait_until_finished()"
   ]
  },
  {
   "cell_type": "code",
   "execution_count": 25,
   "id": "d409bc59",
   "metadata": {
    "execution": {
     "iopub.execute_input": "2023-04-26T02:31:07.956952Z",
     "iopub.status.busy": "2023-04-26T02:31:07.955927Z",
     "iopub.status.idle": "2023-04-26T02:31:52.399117Z",
     "shell.execute_reply": "2023-04-26T02:31:52.397738Z"
    },
    "papermill": {
     "duration": 44.46249,
     "end_time": "2023-04-26T02:31:52.401257",
     "exception": false,
     "start_time": "2023-04-26T02:31:07.938767",
     "status": "completed"
    },
    "tags": []
   },
   "outputs": [
    {
     "name": "stderr",
     "output_type": "stream",
     "text": [
      "100%|██████████| 24/24 [00:44<00:00,  1.85s/it]\n"
     ]
    }
   ],
   "source": [
    "#predict\n",
    "logits = _predict(state,test_df_submit,32)\n",
    "res = []\n",
    "for ar in logits:\n",
    "    for i in ar:\n",
    "        res.append(i)"
   ]
  },
  {
   "cell_type": "code",
   "execution_count": 26,
   "id": "090c18d2",
   "metadata": {
    "execution": {
     "iopub.execute_input": "2023-04-26T02:31:52.439219Z",
     "iopub.status.busy": "2023-04-26T02:31:52.438893Z",
     "iopub.status.idle": "2023-04-26T02:31:52.454263Z",
     "shell.execute_reply": "2023-04-26T02:31:52.453275Z"
    },
    "papermill": {
     "duration": 0.036865,
     "end_time": "2023-04-26T02:31:52.456558",
     "exception": false,
     "start_time": "2023-04-26T02:31:52.419693",
     "status": "completed"
    },
    "tags": []
   },
   "outputs": [],
   "source": [
    "sub = pd.read_csv('../input/hackathon-online-phuket-landmark-recognition/submit.csv')\n",
    "sub.predict = res"
   ]
  },
  {
   "cell_type": "code",
   "execution_count": 27,
   "id": "610e74a6",
   "metadata": {
    "execution": {
     "iopub.execute_input": "2023-04-26T02:31:52.497006Z",
     "iopub.status.busy": "2023-04-26T02:31:52.496032Z",
     "iopub.status.idle": "2023-04-26T02:31:52.505478Z",
     "shell.execute_reply": "2023-04-26T02:31:52.504446Z"
    },
    "papermill": {
     "duration": 0.031729,
     "end_time": "2023-04-26T02:31:52.507890",
     "exception": false,
     "start_time": "2023-04-26T02:31:52.476161",
     "status": "completed"
    },
    "tags": []
   },
   "outputs": [],
   "source": [
    "sub.to_csv(\"/kaggle/working/submit.csv\", index = False)"
   ]
  },
  {
   "cell_type": "code",
   "execution_count": null,
   "id": "e25a3f0b",
   "metadata": {
    "papermill": {
     "duration": 0.016694,
     "end_time": "2023-04-26T02:31:52.543396",
     "exception": false,
     "start_time": "2023-04-26T02:31:52.526702",
     "status": "completed"
    },
    "tags": []
   },
   "outputs": [],
   "source": []
  }
 ],
 "metadata": {
  "kernelspec": {
   "display_name": "Python 3",
   "language": "python",
   "name": "python3"
  },
  "language_info": {
   "codemirror_mode": {
    "name": "ipython",
    "version": 3
   },
   "file_extension": ".py",
   "mimetype": "text/x-python",
   "name": "python",
   "nbconvert_exporter": "python",
   "pygments_lexer": "ipython3",
   "version": "3.7.12"
  },
  "papermill": {
   "default_parameters": {},
   "duration": 392.19503,
   "end_time": "2023-04-26T02:31:56.478700",
   "environment_variables": {},
   "exception": null,
   "input_path": "__notebook__.ipynb",
   "output_path": "__notebook__.ipynb",
   "parameters": {},
   "start_time": "2023-04-26T02:25:24.283670",
   "version": "2.4.0"
  },
  "widgets": {
   "application/vnd.jupyter.widget-state+json": {
    "state": {
     "0c6971c5d78c4729b6c83f850175d7f8": {
      "model_module": "@jupyter-widgets/base",
      "model_module_version": "1.2.0",
      "model_name": "LayoutModel",
      "state": {
       "_model_module": "@jupyter-widgets/base",
       "_model_module_version": "1.2.0",
       "_model_name": "LayoutModel",
       "_view_count": null,
       "_view_module": "@jupyter-widgets/base",
       "_view_module_version": "1.2.0",
       "_view_name": "LayoutView",
       "align_content": null,
       "align_items": null,
       "align_self": null,
       "border": null,
       "bottom": null,
       "display": null,
       "flex": null,
       "flex_flow": null,
       "grid_area": null,
       "grid_auto_columns": null,
       "grid_auto_flow": null,
       "grid_auto_rows": null,
       "grid_column": null,
       "grid_gap": null,
       "grid_row": null,
       "grid_template_areas": null,
       "grid_template_columns": null,
       "grid_template_rows": null,
       "height": null,
       "justify_content": null,
       "justify_items": null,
       "left": null,
       "margin": null,
       "max_height": null,
       "max_width": null,
       "min_height": null,
       "min_width": null,
       "object_fit": null,
       "object_position": null,
       "order": null,
       "overflow": null,
       "overflow_x": null,
       "overflow_y": null,
       "padding": null,
       "right": null,
       "top": null,
       "visibility": null,
       "width": null
      }
     },
     "1d09651252a14562bea339160111df7e": {
      "model_module": "@jupyter-widgets/base",
      "model_module_version": "1.2.0",
      "model_name": "LayoutModel",
      "state": {
       "_model_module": "@jupyter-widgets/base",
       "_model_module_version": "1.2.0",
       "_model_name": "LayoutModel",
       "_view_count": null,
       "_view_module": "@jupyter-widgets/base",
       "_view_module_version": "1.2.0",
       "_view_name": "LayoutView",
       "align_content": null,
       "align_items": null,
       "align_self": null,
       "border": null,
       "bottom": null,
       "display": null,
       "flex": null,
       "flex_flow": null,
       "grid_area": null,
       "grid_auto_columns": null,
       "grid_auto_flow": null,
       "grid_auto_rows": null,
       "grid_column": null,
       "grid_gap": null,
       "grid_row": null,
       "grid_template_areas": null,
       "grid_template_columns": null,
       "grid_template_rows": null,
       "height": null,
       "justify_content": null,
       "justify_items": null,
       "left": null,
       "margin": null,
       "max_height": null,
       "max_width": null,
       "min_height": null,
       "min_width": null,
       "object_fit": null,
       "object_position": null,
       "order": null,
       "overflow": null,
       "overflow_x": null,
       "overflow_y": null,
       "padding": null,
       "right": null,
       "top": null,
       "visibility": null,
       "width": null
      }
     },
     "1e285c821e34409eb9821da990afca1c": {
      "model_module": "@jupyter-widgets/base",
      "model_module_version": "1.2.0",
      "model_name": "LayoutModel",
      "state": {
       "_model_module": "@jupyter-widgets/base",
       "_model_module_version": "1.2.0",
       "_model_name": "LayoutModel",
       "_view_count": null,
       "_view_module": "@jupyter-widgets/base",
       "_view_module_version": "1.2.0",
       "_view_name": "LayoutView",
       "align_content": null,
       "align_items": null,
       "align_self": null,
       "border": null,
       "bottom": null,
       "display": null,
       "flex": null,
       "flex_flow": null,
       "grid_area": null,
       "grid_auto_columns": null,
       "grid_auto_flow": null,
       "grid_auto_rows": null,
       "grid_column": null,
       "grid_gap": null,
       "grid_row": null,
       "grid_template_areas": null,
       "grid_template_columns": null,
       "grid_template_rows": null,
       "height": null,
       "justify_content": null,
       "justify_items": null,
       "left": null,
       "margin": null,
       "max_height": null,
       "max_width": null,
       "min_height": null,
       "min_width": null,
       "object_fit": null,
       "object_position": null,
       "order": null,
       "overflow": null,
       "overflow_x": null,
       "overflow_y": null,
       "padding": null,
       "right": null,
       "top": null,
       "visibility": null,
       "width": null
      }
     },
     "3267ffedcbb14178ae761b7553d28e54": {
      "model_module": "@jupyter-widgets/controls",
      "model_module_version": "1.5.0",
      "model_name": "ProgressStyleModel",
      "state": {
       "_model_module": "@jupyter-widgets/controls",
       "_model_module_version": "1.5.0",
       "_model_name": "ProgressStyleModel",
       "_view_count": null,
       "_view_module": "@jupyter-widgets/base",
       "_view_module_version": "1.2.0",
       "_view_name": "StyleView",
       "bar_color": null,
       "description_width": ""
      }
     },
     "436afd74952648bab17d4d37bfe3835f": {
      "model_module": "@jupyter-widgets/controls",
      "model_module_version": "1.5.0",
      "model_name": "HTMLModel",
      "state": {
       "_dom_classes": [],
       "_model_module": "@jupyter-widgets/controls",
       "_model_module_version": "1.5.0",
       "_model_name": "HTMLModel",
       "_view_count": null,
       "_view_module": "@jupyter-widgets/controls",
       "_view_module_version": "1.5.0",
       "_view_name": "HTMLView",
       "description": "",
       "description_tooltip": null,
       "layout": "IPY_MODEL_fa2adfa7c5ec4991a4df6b6203f07f25",
       "placeholder": "​",
       "style": "IPY_MODEL_dc0ded40be7345f998cbe7cc953f649f",
       "value": " 69.9k/69.9k [00:00&lt;00:00, 1.79MB/s]"
      }
     },
     "4efc966104eb42629df4261e18a1771c": {
      "model_module": "@jupyter-widgets/controls",
      "model_module_version": "1.5.0",
      "model_name": "DescriptionStyleModel",
      "state": {
       "_model_module": "@jupyter-widgets/controls",
       "_model_module_version": "1.5.0",
       "_model_name": "DescriptionStyleModel",
       "_view_count": null,
       "_view_module": "@jupyter-widgets/base",
       "_view_module_version": "1.2.0",
       "_view_name": "StyleView",
       "description_width": ""
      }
     },
     "5a925fc12ac4484ea8087ec638037d8d": {
      "model_module": "@jupyter-widgets/base",
      "model_module_version": "1.2.0",
      "model_name": "LayoutModel",
      "state": {
       "_model_module": "@jupyter-widgets/base",
       "_model_module_version": "1.2.0",
       "_model_name": "LayoutModel",
       "_view_count": null,
       "_view_module": "@jupyter-widgets/base",
       "_view_module_version": "1.2.0",
       "_view_name": "LayoutView",
       "align_content": null,
       "align_items": null,
       "align_self": null,
       "border": null,
       "bottom": null,
       "display": null,
       "flex": null,
       "flex_flow": null,
       "grid_area": null,
       "grid_auto_columns": null,
       "grid_auto_flow": null,
       "grid_auto_rows": null,
       "grid_column": null,
       "grid_gap": null,
       "grid_row": null,
       "grid_template_areas": null,
       "grid_template_columns": null,
       "grid_template_rows": null,
       "height": null,
       "justify_content": null,
       "justify_items": null,
       "left": null,
       "margin": null,
       "max_height": null,
       "max_width": null,
       "min_height": null,
       "min_width": null,
       "object_fit": null,
       "object_position": null,
       "order": null,
       "overflow": null,
       "overflow_x": null,
       "overflow_y": null,
       "padding": null,
       "right": null,
       "top": null,
       "visibility": null,
       "width": null
      }
     },
     "6c506fc910ee424187d653b3fbe76908": {
      "model_module": "@jupyter-widgets/controls",
      "model_module_version": "1.5.0",
      "model_name": "HTMLModel",
      "state": {
       "_dom_classes": [],
       "_model_module": "@jupyter-widgets/controls",
       "_model_module_version": "1.5.0",
       "_model_name": "HTMLModel",
       "_view_count": null,
       "_view_module": "@jupyter-widgets/controls",
       "_view_module_version": "1.5.0",
       "_view_name": "HTMLView",
       "description": "",
       "description_tooltip": null,
       "layout": "IPY_MODEL_1e285c821e34409eb9821da990afca1c",
       "placeholder": "​",
       "style": "IPY_MODEL_a3b87b1484b6484ebcc4e14b74316242",
       "value": "Downloading flax_model.msgpack: 100%"
      }
     },
     "a3b87b1484b6484ebcc4e14b74316242": {
      "model_module": "@jupyter-widgets/controls",
      "model_module_version": "1.5.0",
      "model_name": "DescriptionStyleModel",
      "state": {
       "_model_module": "@jupyter-widgets/controls",
       "_model_module_version": "1.5.0",
       "_model_name": "DescriptionStyleModel",
       "_view_count": null,
       "_view_module": "@jupyter-widgets/base",
       "_view_module_version": "1.2.0",
       "_view_name": "StyleView",
       "description_width": ""
      }
     },
     "acc90d52eff64cc0907aa8c8a2237da2": {
      "model_module": "@jupyter-widgets/controls",
      "model_module_version": "1.5.0",
      "model_name": "FloatProgressModel",
      "state": {
       "_dom_classes": [],
       "_model_module": "@jupyter-widgets/controls",
       "_model_module_version": "1.5.0",
       "_model_name": "FloatProgressModel",
       "_view_count": null,
       "_view_module": "@jupyter-widgets/controls",
       "_view_module_version": "1.5.0",
       "_view_name": "ProgressView",
       "bar_style": "success",
       "description": "",
       "description_tooltip": null,
       "layout": "IPY_MODEL_0c6971c5d78c4729b6c83f850175d7f8",
       "max": 69889.0,
       "min": 0.0,
       "orientation": "horizontal",
       "style": "IPY_MODEL_3267ffedcbb14178ae761b7553d28e54",
       "value": 69889.0
      }
     },
     "b37d2cb9c2ea48329cf4c7dadf18107e": {
      "model_module": "@jupyter-widgets/controls",
      "model_module_version": "1.5.0",
      "model_name": "FloatProgressModel",
      "state": {
       "_dom_classes": [],
       "_model_module": "@jupyter-widgets/controls",
       "_model_module_version": "1.5.0",
       "_model_name": "FloatProgressModel",
       "_view_count": null,
       "_view_module": "@jupyter-widgets/controls",
       "_view_module_version": "1.5.0",
       "_view_name": "ProgressView",
       "bar_style": "success",
       "description": "",
       "description_tooltip": null,
       "layout": "IPY_MODEL_bd0d6b4aa1754c039cf7a39d72ed96be",
       "max": 346132551.0,
       "min": 0.0,
       "orientation": "horizontal",
       "style": "IPY_MODEL_b9a0de7af2684ad695bdf4e1d8c72632",
       "value": 346132551.0
      }
     },
     "b9a0de7af2684ad695bdf4e1d8c72632": {
      "model_module": "@jupyter-widgets/controls",
      "model_module_version": "1.5.0",
      "model_name": "ProgressStyleModel",
      "state": {
       "_model_module": "@jupyter-widgets/controls",
       "_model_module_version": "1.5.0",
       "_model_name": "ProgressStyleModel",
       "_view_count": null,
       "_view_module": "@jupyter-widgets/base",
       "_view_module_version": "1.2.0",
       "_view_name": "StyleView",
       "bar_color": null,
       "description_width": ""
      }
     },
     "b9ee16004c73429ea5bef2474deccabf": {
      "model_module": "@jupyter-widgets/controls",
      "model_module_version": "1.5.0",
      "model_name": "DescriptionStyleModel",
      "state": {
       "_model_module": "@jupyter-widgets/controls",
       "_model_module_version": "1.5.0",
       "_model_name": "DescriptionStyleModel",
       "_view_count": null,
       "_view_module": "@jupyter-widgets/base",
       "_view_module_version": "1.2.0",
       "_view_name": "StyleView",
       "description_width": ""
      }
     },
     "bd0d6b4aa1754c039cf7a39d72ed96be": {
      "model_module": "@jupyter-widgets/base",
      "model_module_version": "1.2.0",
      "model_name": "LayoutModel",
      "state": {
       "_model_module": "@jupyter-widgets/base",
       "_model_module_version": "1.2.0",
       "_model_name": "LayoutModel",
       "_view_count": null,
       "_view_module": "@jupyter-widgets/base",
       "_view_module_version": "1.2.0",
       "_view_name": "LayoutView",
       "align_content": null,
       "align_items": null,
       "align_self": null,
       "border": null,
       "bottom": null,
       "display": null,
       "flex": null,
       "flex_flow": null,
       "grid_area": null,
       "grid_auto_columns": null,
       "grid_auto_flow": null,
       "grid_auto_rows": null,
       "grid_column": null,
       "grid_gap": null,
       "grid_row": null,
       "grid_template_areas": null,
       "grid_template_columns": null,
       "grid_template_rows": null,
       "height": null,
       "justify_content": null,
       "justify_items": null,
       "left": null,
       "margin": null,
       "max_height": null,
       "max_width": null,
       "min_height": null,
       "min_width": null,
       "object_fit": null,
       "object_position": null,
       "order": null,
       "overflow": null,
       "overflow_x": null,
       "overflow_y": null,
       "padding": null,
       "right": null,
       "top": null,
       "visibility": null,
       "width": null
      }
     },
     "d724b15497404f2f84c6dc42dfbf9a30": {
      "model_module": "@jupyter-widgets/controls",
      "model_module_version": "1.5.0",
      "model_name": "HTMLModel",
      "state": {
       "_dom_classes": [],
       "_model_module": "@jupyter-widgets/controls",
       "_model_module_version": "1.5.0",
       "_model_name": "HTMLModel",
       "_view_count": null,
       "_view_module": "@jupyter-widgets/controls",
       "_view_module_version": "1.5.0",
       "_view_name": "HTMLView",
       "description": "",
       "description_tooltip": null,
       "layout": "IPY_MODEL_1d09651252a14562bea339160111df7e",
       "placeholder": "​",
       "style": "IPY_MODEL_4efc966104eb42629df4261e18a1771c",
       "value": "Downloading (…)lve/main/config.json: 100%"
      }
     },
     "dc0ded40be7345f998cbe7cc953f649f": {
      "model_module": "@jupyter-widgets/controls",
      "model_module_version": "1.5.0",
      "model_name": "DescriptionStyleModel",
      "state": {
       "_model_module": "@jupyter-widgets/controls",
       "_model_module_version": "1.5.0",
       "_model_name": "DescriptionStyleModel",
       "_view_count": null,
       "_view_module": "@jupyter-widgets/base",
       "_view_module_version": "1.2.0",
       "_view_name": "StyleView",
       "description_width": ""
      }
     },
     "e917c663b703426e853ff33b0f56a9e3": {
      "model_module": "@jupyter-widgets/controls",
      "model_module_version": "1.5.0",
      "model_name": "HBoxModel",
      "state": {
       "_dom_classes": [],
       "_model_module": "@jupyter-widgets/controls",
       "_model_module_version": "1.5.0",
       "_model_name": "HBoxModel",
       "_view_count": null,
       "_view_module": "@jupyter-widgets/controls",
       "_view_module_version": "1.5.0",
       "_view_name": "HBoxView",
       "box_style": "",
       "children": [
        "IPY_MODEL_d724b15497404f2f84c6dc42dfbf9a30",
        "IPY_MODEL_acc90d52eff64cc0907aa8c8a2237da2",
        "IPY_MODEL_436afd74952648bab17d4d37bfe3835f"
       ],
       "layout": "IPY_MODEL_edd4d75968fd46fd9a19bc4f0ebc86dc"
      }
     },
     "edc42884af2c4daab40ae5b17a9c5b6d": {
      "model_module": "@jupyter-widgets/base",
      "model_module_version": "1.2.0",
      "model_name": "LayoutModel",
      "state": {
       "_model_module": "@jupyter-widgets/base",
       "_model_module_version": "1.2.0",
       "_model_name": "LayoutModel",
       "_view_count": null,
       "_view_module": "@jupyter-widgets/base",
       "_view_module_version": "1.2.0",
       "_view_name": "LayoutView",
       "align_content": null,
       "align_items": null,
       "align_self": null,
       "border": null,
       "bottom": null,
       "display": null,
       "flex": null,
       "flex_flow": null,
       "grid_area": null,
       "grid_auto_columns": null,
       "grid_auto_flow": null,
       "grid_auto_rows": null,
       "grid_column": null,
       "grid_gap": null,
       "grid_row": null,
       "grid_template_areas": null,
       "grid_template_columns": null,
       "grid_template_rows": null,
       "height": null,
       "justify_content": null,
       "justify_items": null,
       "left": null,
       "margin": null,
       "max_height": null,
       "max_width": null,
       "min_height": null,
       "min_width": null,
       "object_fit": null,
       "object_position": null,
       "order": null,
       "overflow": null,
       "overflow_x": null,
       "overflow_y": null,
       "padding": null,
       "right": null,
       "top": null,
       "visibility": null,
       "width": null
      }
     },
     "edd4d75968fd46fd9a19bc4f0ebc86dc": {
      "model_module": "@jupyter-widgets/base",
      "model_module_version": "1.2.0",
      "model_name": "LayoutModel",
      "state": {
       "_model_module": "@jupyter-widgets/base",
       "_model_module_version": "1.2.0",
       "_model_name": "LayoutModel",
       "_view_count": null,
       "_view_module": "@jupyter-widgets/base",
       "_view_module_version": "1.2.0",
       "_view_name": "LayoutView",
       "align_content": null,
       "align_items": null,
       "align_self": null,
       "border": null,
       "bottom": null,
       "display": null,
       "flex": null,
       "flex_flow": null,
       "grid_area": null,
       "grid_auto_columns": null,
       "grid_auto_flow": null,
       "grid_auto_rows": null,
       "grid_column": null,
       "grid_gap": null,
       "grid_row": null,
       "grid_template_areas": null,
       "grid_template_columns": null,
       "grid_template_rows": null,
       "height": null,
       "justify_content": null,
       "justify_items": null,
       "left": null,
       "margin": null,
       "max_height": null,
       "max_width": null,
       "min_height": null,
       "min_width": null,
       "object_fit": null,
       "object_position": null,
       "order": null,
       "overflow": null,
       "overflow_x": null,
       "overflow_y": null,
       "padding": null,
       "right": null,
       "top": null,
       "visibility": null,
       "width": null
      }
     },
     "f9dd7773d87c4104ab1c5d3c28353db0": {
      "model_module": "@jupyter-widgets/controls",
      "model_module_version": "1.5.0",
      "model_name": "HTMLModel",
      "state": {
       "_dom_classes": [],
       "_model_module": "@jupyter-widgets/controls",
       "_model_module_version": "1.5.0",
       "_model_name": "HTMLModel",
       "_view_count": null,
       "_view_module": "@jupyter-widgets/controls",
       "_view_module_version": "1.5.0",
       "_view_name": "HTMLView",
       "description": "",
       "description_tooltip": null,
       "layout": "IPY_MODEL_5a925fc12ac4484ea8087ec638037d8d",
       "placeholder": "​",
       "style": "IPY_MODEL_b9ee16004c73429ea5bef2474deccabf",
       "value": " 346M/346M [00:04&lt;00:00, 71.0MB/s]"
      }
     },
     "fa2adfa7c5ec4991a4df6b6203f07f25": {
      "model_module": "@jupyter-widgets/base",
      "model_module_version": "1.2.0",
      "model_name": "LayoutModel",
      "state": {
       "_model_module": "@jupyter-widgets/base",
       "_model_module_version": "1.2.0",
       "_model_name": "LayoutModel",
       "_view_count": null,
       "_view_module": "@jupyter-widgets/base",
       "_view_module_version": "1.2.0",
       "_view_name": "LayoutView",
       "align_content": null,
       "align_items": null,
       "align_self": null,
       "border": null,
       "bottom": null,
       "display": null,
       "flex": null,
       "flex_flow": null,
       "grid_area": null,
       "grid_auto_columns": null,
       "grid_auto_flow": null,
       "grid_auto_rows": null,
       "grid_column": null,
       "grid_gap": null,
       "grid_row": null,
       "grid_template_areas": null,
       "grid_template_columns": null,
       "grid_template_rows": null,
       "height": null,
       "justify_content": null,
       "justify_items": null,
       "left": null,
       "margin": null,
       "max_height": null,
       "max_width": null,
       "min_height": null,
       "min_width": null,
       "object_fit": null,
       "object_position": null,
       "order": null,
       "overflow": null,
       "overflow_x": null,
       "overflow_y": null,
       "padding": null,
       "right": null,
       "top": null,
       "visibility": null,
       "width": null
      }
     },
     "fb7b0fe3f2ac428ca0f1a29933ae376e": {
      "model_module": "@jupyter-widgets/controls",
      "model_module_version": "1.5.0",
      "model_name": "HBoxModel",
      "state": {
       "_dom_classes": [],
       "_model_module": "@jupyter-widgets/controls",
       "_model_module_version": "1.5.0",
       "_model_name": "HBoxModel",
       "_view_count": null,
       "_view_module": "@jupyter-widgets/controls",
       "_view_module_version": "1.5.0",
       "_view_name": "HBoxView",
       "box_style": "",
       "children": [
        "IPY_MODEL_6c506fc910ee424187d653b3fbe76908",
        "IPY_MODEL_b37d2cb9c2ea48329cf4c7dadf18107e",
        "IPY_MODEL_f9dd7773d87c4104ab1c5d3c28353db0"
       ],
       "layout": "IPY_MODEL_edc42884af2c4daab40ae5b17a9c5b6d"
      }
     }
    },
    "version_major": 2,
    "version_minor": 0
   }
  }
 },
 "nbformat": 4,
 "nbformat_minor": 5
}
